{
 "cells": [
  {
   "cell_type": "markdown",
   "metadata": {},
   "source": [
    "# LDA\n"
   ]
  },
  {
   "cell_type": "code",
   "execution_count": 1,
   "metadata": {
    "collapsed": true
   },
   "outputs": [],
   "source": [
    "import numpy as np\n",
    "import pandas as pd\n",
    "from nltk import word_tokenize\n",
    "from nltk.corpus import wordnet as wn\n",
    "from sklearn.feature_extraction.text import TfidfVectorizer, CountVectorizer\n",
    "from sklearn.decomposition import NMF, LatentDirichletAllocation"
   ]
  },
  {
   "cell_type": "markdown",
   "metadata": {},
   "source": [
    "## Loading data"
   ]
  },
  {
   "cell_type": "markdown",
   "metadata": {},
   "source": [
    "### Topics"
   ]
  },
  {
   "cell_type": "code",
   "execution_count": 2,
   "metadata": {
    "collapsed": true
   },
   "outputs": [],
   "source": [
    "topics_df = pd.read_csv('data/out/lda_winners.csv', names=['SIMILARITY', 'TOPIC', 'N_TOPICS'])"
   ]
  },
  {
   "cell_type": "code",
   "execution_count": 3,
   "metadata": {},
   "outputs": [
    {
     "data": {
      "text/html": [
       "<div>\n",
       "<style>\n",
       "    .dataframe thead tr:only-child th {\n",
       "        text-align: right;\n",
       "    }\n",
       "\n",
       "    .dataframe thead th {\n",
       "        text-align: left;\n",
       "    }\n",
       "\n",
       "    .dataframe tbody tr th {\n",
       "        vertical-align: top;\n",
       "    }\n",
       "</style>\n",
       "<table border=\"1\" class=\"dataframe\">\n",
       "  <thead>\n",
       "    <tr style=\"text-align: right;\">\n",
       "      <th></th>\n",
       "      <th>SIMILARITY</th>\n",
       "      <th>TOPIC</th>\n",
       "      <th>N_TOPICS</th>\n",
       "    </tr>\n",
       "  </thead>\n",
       "  <tbody>\n",
       "    <tr>\n",
       "      <th>0</th>\n",
       "      <td>0.672244</td>\n",
       "      <td>car drive seat road park driving bag drove ho...</td>\n",
       "      <td>191</td>\n",
       "    </tr>\n",
       "    <tr>\n",
       "      <th>1</th>\n",
       "      <td>0.664257</td>\n",
       "      <td>car drive house seat road driving drove home ...</td>\n",
       "      <td>182</td>\n",
       "    </tr>\n",
       "    <tr>\n",
       "      <th>2</th>\n",
       "      <td>0.653546</td>\n",
       "      <td>car house door home drive seat road driving d...</td>\n",
       "      <td>105</td>\n",
       "    </tr>\n",
       "    <tr>\n",
       "      <th>3</th>\n",
       "      <td>0.646933</td>\n",
       "      <td>team ball park dream game play line hit won r...</td>\n",
       "      <td>160</td>\n",
       "    </tr>\n",
       "    <tr>\n",
       "      <th>4</th>\n",
       "      <td>0.641080</td>\n",
       "      <td>game play ball playing hit played beat won sh...</td>\n",
       "      <td>157</td>\n",
       "    </tr>\n",
       "  </tbody>\n",
       "</table>\n",
       "</div>"
      ],
      "text/plain": [
       "   SIMILARITY                                              TOPIC  N_TOPICS\n",
       "0    0.672244   car drive seat road park driving bag drove ho...       191\n",
       "1    0.664257   car drive house seat road driving drove home ...       182\n",
       "2    0.653546   car house door home drive seat road driving d...       105\n",
       "3    0.646933   team ball park dream game play line hit won r...       160\n",
       "4    0.641080   game play ball playing hit played beat won sh...       157"
      ]
     },
     "execution_count": 3,
     "metadata": {},
     "output_type": "execute_result"
    }
   ],
   "source": [
    "topics_df.head()"
   ]
  },
  {
   "cell_type": "code",
   "execution_count": 4,
   "metadata": {},
   "outputs": [
    {
     "data": {
      "text/plain": [
       "(20100, 3)"
      ]
     },
     "execution_count": 4,
     "metadata": {},
     "output_type": "execute_result"
    }
   ],
   "source": [
    "topics_df.shape"
   ]
  },
  {
   "cell_type": "markdown",
   "metadata": {},
   "source": [
    "## Processing data"
   ]
  },
  {
   "cell_type": "code",
   "execution_count": 5,
   "metadata": {
    "collapsed": true
   },
   "outputs": [],
   "source": [
    "SIMILARITY_THRESHOLD = 0.5\n",
    "INTERSECTION_THRESHOLD = 5"
   ]
  },
  {
   "cell_type": "markdown",
   "metadata": {},
   "source": [
    "### Topics"
   ]
  },
  {
   "cell_type": "code",
   "execution_count": 6,
   "metadata": {
    "collapsed": true
   },
   "outputs": [],
   "source": [
    "top_topics_df = topics_df[topics_df.SIMILARITY >= SIMILARITY_THRESHOLD]"
   ]
  },
  {
   "cell_type": "code",
   "execution_count": 7,
   "metadata": {},
   "outputs": [
    {
     "data": {
      "text/plain": [
       "1951"
      ]
     },
     "execution_count": 7,
     "metadata": {},
     "output_type": "execute_result"
    }
   ],
   "source": [
    "len(top_topics_df)"
   ]
  },
  {
   "cell_type": "code",
   "execution_count": 8,
   "metadata": {},
   "outputs": [
    {
     "name": "stdout",
     "output_type": "stream",
     "text": [
      "CPU times: user 1.97 s, sys: 30.2 ms, total: 2 s\n",
      "Wall time: 1.88 s\n"
     ]
    }
   ],
   "source": [
    "%%time\n",
    "\n",
    "indexes = []\n",
    "\n",
    "for i, row in top_topics_df.iterrows():\n",
    "    add = True\n",
    "    words = set(row.TOPIC.split())\n",
    "    previous_df = top_topics_df.loc[indexes]\n",
    "    for previous_topic in previous_df.TOPIC:\n",
    "        previous_words = set(previous_topic.split())\n",
    "        intersect = words.intersection(previous_words)\n",
    "        if len(intersect) >= INTERSECTION_THRESHOLD:\n",
    "            add = False\n",
    "            break\n",
    "    if add:\n",
    "        indexes.append(i)"
   ]
  },
  {
   "cell_type": "code",
   "execution_count": 9,
   "metadata": {},
   "outputs": [],
   "source": [
    "unique_topics_df = top_topics_df.loc[indexes]"
   ]
  },
  {
   "cell_type": "code",
   "execution_count": 10,
   "metadata": {},
   "outputs": [
    {
     "data": {
      "text/plain": [
       "58"
      ]
     },
     "execution_count": 10,
     "metadata": {},
     "output_type": "execute_result"
    }
   ],
   "source": [
    "len(unique_topics_df)"
   ]
  },
  {
   "cell_type": "code",
   "execution_count": 11,
   "metadata": {},
   "outputs": [
    {
     "data": {
      "text/html": [
       "<div>\n",
       "<style>\n",
       "    .dataframe thead tr:only-child th {\n",
       "        text-align: right;\n",
       "    }\n",
       "\n",
       "    .dataframe thead th {\n",
       "        text-align: left;\n",
       "    }\n",
       "\n",
       "    .dataframe tbody tr th {\n",
       "        vertical-align: top;\n",
       "    }\n",
       "</style>\n",
       "<table border=\"1\" class=\"dataframe\">\n",
       "  <thead>\n",
       "    <tr style=\"text-align: right;\">\n",
       "      <th></th>\n",
       "      <th>SIMILARITY</th>\n",
       "      <th>TOPIC</th>\n",
       "      <th>N_TOPICS</th>\n",
       "    </tr>\n",
       "  </thead>\n",
       "  <tbody>\n",
       "    <tr>\n",
       "      <th>0</th>\n",
       "      <td>0.672244</td>\n",
       "      <td>car drive seat road park driving bag drove ho...</td>\n",
       "      <td>191</td>\n",
       "    </tr>\n",
       "    <tr>\n",
       "      <th>3</th>\n",
       "      <td>0.646933</td>\n",
       "      <td>team ball park dream game play line hit won r...</td>\n",
       "      <td>160</td>\n",
       "    </tr>\n",
       "    <tr>\n",
       "      <th>5</th>\n",
       "      <td>0.640202</td>\n",
       "      <td>box picture bags stairs closet open bag shoes...</td>\n",
       "      <td>80</td>\n",
       "    </tr>\n",
       "    <tr>\n",
       "      <th>8</th>\n",
       "      <td>0.636975</td>\n",
       "      <td>room door open floor bed table small window w...</td>\n",
       "      <td>56</td>\n",
       "    </tr>\n",
       "    <tr>\n",
       "      <th>9</th>\n",
       "      <td>0.633821</td>\n",
       "      <td>says say asks looks ask smiles walks head nod...</td>\n",
       "      <td>155</td>\n",
       "    </tr>\n",
       "  </tbody>\n",
       "</table>\n",
       "</div>"
      ],
      "text/plain": [
       "   SIMILARITY                                              TOPIC  N_TOPICS\n",
       "0    0.672244   car drive seat road park driving bag drove ho...       191\n",
       "3    0.646933   team ball park dream game play line hit won r...       160\n",
       "5    0.640202   box picture bags stairs closet open bag shoes...        80\n",
       "8    0.636975   room door open floor bed table small window w...        56\n",
       "9    0.633821   says say asks looks ask smiles walks head nod...       155"
      ]
     },
     "execution_count": 11,
     "metadata": {},
     "output_type": "execute_result"
    }
   ],
   "source": [
    "unique_topics_df.head()"
   ]
  },
  {
   "cell_type": "code",
   "execution_count": 12,
   "metadata": {
    "scrolled": false
   },
   "outputs": [
    {
     "name": "stdout",
     "output_type": "stream",
     "text": [
      "1 - 0.6722436207494797\n",
      "car drive seat road park driving bag drove home ride house window door inside hand bags head street taking pick\n",
      "\n",
      "2 - 0.646932983514499\n",
      "team ball park dream game play line hit won running playing run ready fast air throw shot right pass set\n",
      "\n",
      "3 - 0.6402015347323387\n",
      "box picture bags stairs closet open bag shoes pack till pull door doors walk steps turn lights putting reach upstairs\n",
      "\n",
      "4 - 0.6369746603676049\n",
      "room door open floor bed table small window wall hall voice inside doors chair stairs eyes hallway glass kitchen head\n",
      "\n",
      "5 - 0.6338205069076265\n",
      "says say asks looks ask smiles walks head nods hand pulls smile starts walk laughs takes turns look hands gets\n",
      "\n",
      "6 - 0.6331798812868554\n",
      "hair black eyes blue white brown red dark green light blonde like shirt color grey wearing door pink skin jeans\n",
      "\n",
      "7 - 0.6330450241102841\n",
      "eyes face lips smile hands hand like body voice head felt mouth hair feel feeling fingers way moment small words\n",
      "\n",
      "8 - 0.6283909457053908\n",
      "book read books reading opening living pick case leave started like time bag thing taking know making best hands placed\n",
      "\n",
      "9 - 0.6276847845499061\n",
      "pain ball hit arm ground leg wrist head hurt hand fell stomach right cut face left let fall threw legs\n",
      "\n",
      "10 - 0.6037851301931524\n",
      "table coffee shop counter box cup kitchen drink took work glass taking hand order bag seat paper time sitting placed\n",
      "\n",
      "11 - 0.5949822345000999\n",
      "office desk lady chair woman means meeting floor building doors seat man work case mean old business does room screen\n",
      "\n",
      "12 - 0.5895948934293598\n",
      "pack alpha house eyes comment does vote meeting need tone like run known head touch line family leave running lead\n",
      "\n",
      "13 - 0.5863283117901417\n",
      "song game play music playing dance dare played truth guys let like love beat bottle favorite start end fun listening\n",
      "\n",
      "14 - 0.5863152835794192\n",
      "man men glass blood wall street tall boy throat god town face forward help drink sir arm case nose red\n",
      "\n",
      "15 - 0.5862196677359428\n",
      "picture box paper town piece screen small read pocket counter kitchen inside sign wall left case city clock people set\n",
      "\n",
      "16 - 0.5842140306328835\n",
      "chance questions answer question moment ask asking fit word given sort attention met explain conversation sense point drop contact lead\n",
      "\n",
      "17 - 0.581553356256171\n",
      "father mother family son child daughter years life little parents children daddy baby girl day old time home kids young\n",
      "\n",
      "18 - 0.5799800709087749\n",
      "fight gun people ground group magic power use let shot right attack fighting kill wall need time hit help way\n",
      "\n",
      "19 - 0.5779384035104682\n",
      "ice apartment city building street man cold jacket park place bar road middle men live lights home outside town sun\n",
      "\n",
      "20 - 0.5742099085984534\n",
      "looked started saw said did just went turned heard walked like got came looking ran took gave face look thought\n",
      "\n",
      "21 - 0.5699952655160818\n",
      "bus stage band crowd guys people music favorite waiting seat stop line screaming meet direction lights rest excited fan set\n",
      "\n",
      "22 - 0.5690622018935314\n",
      "ca mark does knows care wants god needs let know makes help gets looks like want wait right way takes\n",
      "\n",
      "23 - 0.5647672524187922\n",
      "school face eyes girl black turned desk don way know want day chair saw life year high head thing arm\n",
      "\n",
      "24 - 0.5645959074600919\n",
      "write paper writing favorite note piece questions question read answer color ask stuff fun dear want work start people reading\n",
      "\n",
      "25 - 0.559624758264566\n",
      "money pay means order business job bags work form life used food names living got live use make pocket enjoy\n",
      "\n",
      "26 - 0.5555677309763182\n",
      "shop store counter bag grey order pay ice sign busy street place handed small change bar pocket looking asking called\n",
      "\n",
      "27 - 0.5535316313593102\n",
      "blood body pain eyes die human time world sky kill voice dead dark fear death power life heart ground cold\n",
      "\n",
      "28 - 0.5506637182196158\n",
      "water ice cold body air hot bottle sun warm cup feet cool edge shower like face head skin glass run\n",
      "\n",
      "29 - 0.5449329337067469\n",
      "party john bar drink club drunk bottle guy night glass tonight man dance fun floor people friend cup glasses music\n",
      "\n",
      "30 - 0.5392721195756066\n",
      "bottle plan half drink word water broken drunk handed taking touch shock pulling face lip took hand hands opening pulled\n",
      "\n",
      "31 - 0.5385990561499768\n",
      "james magic power use kill dark lead step using used called control days saw looked followed choice break told light\n",
      "\n",
      "32 - 0.5382326795556864\n",
      "tree forest ground hide walking sun town spot feet dark run fall near place running home jump large house tall\n",
      "\n",
      "33 - 0.5380873320277753\n",
      "blood pain neck wrist bite red pale skin teeth drink killed cut hurt control mouth throat kill body smell lying\n",
      "\n",
      "34 - 0.5355495009869067\n",
      "boy levi king rose father princess queen ball magic man like son mother did face power eyes team fight young\n",
      "\n",
      "35 - 0.5349623638496459\n",
      "did know told asked tell room need want yes think time left knew right like looked ask say answer going\n",
      "\n",
      "36 - 0.5348240061277163\n",
      "mark voice just right let feel make left heart way place stay set sound going away barely thoughts mind start\n",
      "\n",
      "37 - 0.5342730144766971\n",
      "dress date park leo wear picture wearing fit moment comment main place surprise fan going girl change shoes short met\n",
      "\n",
      "38 - 0.5303621700570534\n",
      "blood band case drink lead music kill new normal bit half means given cut surprised seconds set people help type\n",
      "\n",
      "39 - 0.5301206323142936\n",
      "food table james eating lunch dinner order sit breakfast bite sitting stomach seat finished mouth sat set spot finish like\n",
      "\n",
      "40 - 0.5290345810150486\n",
      "water box movie watch birthday watching tv couch watched screen sun set edge picked sign feet sitting lights favorite open\n",
      "\n",
      "41 - 0.5287555464559701\n",
      "phone text number message screen pocket hello hung calling read sent reply home guy answer rang pick called line contact\n",
      "\n",
      "42 - 0.5269336229284086\n",
      "box gun shot pointed inside got pulled dead help pressed bar pointing holding wrapped open jacket stuff pocket head finger\n",
      "\n",
      "43 - 0.5249853480803048\n",
      "james step green special lead brown kill looks minute going view knowing want showing look chapter stand spot like obviously\n",
      "\n",
      "44 - 0.5238077352508262\n",
      "hospital broken normal heart set chair leave arm room floor fear half shoulder books tears hands safe hold away head\n",
      "\n",
      "45 - 0.5233288108520306\n",
      "work time day new good home job today make morning place things days working need life week people ready long\n",
      "\n",
      "46 - 0.5210719963007319\n",
      "street park dead case living walking walk work home lights new job right late house check known night way end\n",
      "\n",
      "47 - 0.5198967503175584\n",
      "room food clothes shower bathroom kitchen bed morning shirt eat hair breakfast went black water house table ready good dress\n",
      "\n",
      "48 - 0.5189552560623524\n",
      "glass glasses water screen table lights pressed speak drink floor mirror dropped pull stuck seconds case throat taken sit locked\n",
      "\n",
      "49 - 0.5166847495929826\n",
      "looking making walking pulling getting taking turning grabbing going just trying putting away giving way seeing smirk causing leaving smirked\n",
      "\n",
      "50 - 0.5161810126035318\n",
      "aunt dear parents picture window honey conversation live pocket stuck sister table home head face school clock kitchen hand type\n",
      "\n",
      "51 - 0.5130068504359688\n",
      "human wolf forest form body white smell ears normal black change eyes clothes chance run running attack teeth different turn\n",
      "\n",
      "52 - 0.5128272217978099\n",
      "replied asked answered told exclaimed shouted explained added spoke reply started continued alright yelled agreed stated called turned face got\n",
      "\n",
      "53 - 0.5118165945227781\n",
      "entire word pretty life make hand world family like note known change class does high heart moment reading truth number\n",
      "\n",
      "54 - 0.5112251165406209\n",
      "son john face comment plan place attention minutes point knows oh surprise cause met air parents control conversation familiar course\n",
      "\n",
      "55 - 0.5091604036821392\n",
      "mom love head eyes house honey red yeah father fuck turn door bye place pull look car tears open light\n",
      "\n",
      "56 - 0.5073266189546981\n",
      "window sky outside view space sun lights light inside staring filled night closed house open middle bedroom falling dark room\n",
      "\n",
      "57 - 0.5007643968300358\n",
      "food eat store eating counter smell bags bag clothes stuff money grab pick help sir let looking walking eye like\n",
      "\n",
      "58 - 0.5005350810361402\n",
      "eu bus 10 ride tv stop case set minute time area hours place favorite bag day minutes waited stuff arrived\n",
      "\n"
     ]
    }
   ],
   "source": [
    "for i, (j, row) in enumerate(unique_topics_df.iterrows()):\n",
    "    print(i + 1, '-', row.SIMILARITY)\n",
    "    print(row.TOPIC.strip())\n",
    "    print()"
   ]
  },
  {
   "cell_type": "markdown",
   "metadata": {},
   "source": [
    "## Saving data"
   ]
  },
  {
   "cell_type": "code",
   "execution_count": 13,
   "metadata": {
    "collapsed": true
   },
   "outputs": [],
   "source": [
    "unique_topics_df.to_csv('data/out/lda_unique_topics.csv', index=False)"
   ]
  },
  {
   "cell_type": "code",
   "execution_count": null,
   "metadata": {
    "collapsed": true
   },
   "outputs": [],
   "source": []
  }
 ],
 "metadata": {
  "kernelspec": {
   "display_name": "Python 3",
   "language": "python",
   "name": "python3"
  },
  "language_info": {
   "codemirror_mode": {
    "name": "ipython",
    "version": 3
   },
   "file_extension": ".py",
   "mimetype": "text/x-python",
   "name": "python",
   "nbconvert_exporter": "python",
   "pygments_lexer": "ipython3",
   "version": "3.4.3"
  }
 },
 "nbformat": 4,
 "nbformat_minor": 2
}
