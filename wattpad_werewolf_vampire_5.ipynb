{
 "cells": [
  {
   "cell_type": "markdown",
   "metadata": {},
   "source": [
    "# Histogram\n"
   ]
  },
  {
   "cell_type": "code",
   "execution_count": 1,
   "metadata": {
    "collapsed": true
   },
   "outputs": [],
   "source": [
    "import pickle\n",
    "from collections import Counter\n",
    "from string import punctuation\n",
    "\n",
    "import numpy as np\n",
    "import pandas as pd\n",
    "from nltk import word_tokenize\n",
    "from nltk.corpus import wordnet as wn\n",
    "from nltk.corpus import stopwords\n",
    "from sklearn.feature_extraction.text import TfidfVectorizer, CountVectorizer\n",
    "from sklearn.decomposition import NMF, LatentDirichletAllocation"
   ]
  },
  {
   "cell_type": "markdown",
   "metadata": {},
   "source": [
    "## Loading data"
   ]
  },
  {
   "cell_type": "markdown",
   "metadata": {},
   "source": [
    "### Stories"
   ]
  },
  {
   "cell_type": "code",
   "execution_count": 2,
   "metadata": {
    "collapsed": true
   },
   "outputs": [],
   "source": [
    "stories_df = pd.read_csv('data/out/werewolf_vampire_stories.csv')"
   ]
  },
  {
   "cell_type": "code",
   "execution_count": 3,
   "metadata": {},
   "outputs": [
    {
     "data": {
      "text/html": [
       "<div>\n",
       "<style>\n",
       "    .dataframe thead tr:only-child th {\n",
       "        text-align: right;\n",
       "    }\n",
       "\n",
       "    .dataframe thead th {\n",
       "        text-align: left;\n",
       "    }\n",
       "\n",
       "    .dataframe tbody tr th {\n",
       "        vertical-align: top;\n",
       "    }\n",
       "</style>\n",
       "<table border=\"1\" class=\"dataframe\">\n",
       "  <thead>\n",
       "    <tr style=\"text-align: right;\">\n",
       "      <th></th>\n",
       "      <th>story_id</th>\n",
       "      <th>chapter_id</th>\n",
       "      <th>chapter_index</th>\n",
       "      <th>chapter_text</th>\n",
       "    </tr>\n",
       "  </thead>\n",
       "  <tbody>\n",
       "    <tr>\n",
       "      <th>0</th>\n",
       "      <td>157305</td>\n",
       "      <td>1100896</td>\n",
       "      <td>0</td>\n",
       "      <td>'I packed whilst you were at school' she said ...</td>\n",
       "    </tr>\n",
       "    <tr>\n",
       "      <th>1</th>\n",
       "      <td>157305</td>\n",
       "      <td>1108308</td>\n",
       "      <td>1</td>\n",
       "      <td>'Ladies and Gentlemen, this is your captain sp...</td>\n",
       "    </tr>\n",
       "    <tr>\n",
       "      <th>2</th>\n",
       "      <td>157305</td>\n",
       "      <td>1131027</td>\n",
       "      <td>2</td>\n",
       "      <td>My father was still frowning but he seemed to ...</td>\n",
       "    </tr>\n",
       "    <tr>\n",
       "      <th>3</th>\n",
       "      <td>157305</td>\n",
       "      <td>1157067</td>\n",
       "      <td>3</td>\n",
       "      <td>Bloody girl, why did she have to turn up...she...</td>\n",
       "    </tr>\n",
       "    <tr>\n",
       "      <th>4</th>\n",
       "      <td>157305</td>\n",
       "      <td>1160601</td>\n",
       "      <td>4</td>\n",
       "      <td>Sam x I blushed and looked down... “Umm...well...</td>\n",
       "    </tr>\n",
       "  </tbody>\n",
       "</table>\n",
       "</div>"
      ],
      "text/plain": [
       "   story_id  chapter_id  chapter_index  \\\n",
       "0    157305     1100896              0   \n",
       "1    157305     1108308              1   \n",
       "2    157305     1131027              2   \n",
       "3    157305     1157067              3   \n",
       "4    157305     1160601              4   \n",
       "\n",
       "                                        chapter_text  \n",
       "0  'I packed whilst you were at school' she said ...  \n",
       "1  'Ladies and Gentlemen, this is your captain sp...  \n",
       "2  My father was still frowning but he seemed to ...  \n",
       "3  Bloody girl, why did she have to turn up...she...  \n",
       "4  Sam x I blushed and looked down... “Umm...well...  "
      ]
     },
     "execution_count": 3,
     "metadata": {},
     "output_type": "execute_result"
    }
   ],
   "source": [
    "stories_df.head()"
   ]
  },
  {
   "cell_type": "code",
   "execution_count": 4,
   "metadata": {},
   "outputs": [
    {
     "data": {
      "text/plain": [
       "(23978, 4)"
      ]
     },
     "execution_count": 4,
     "metadata": {},
     "output_type": "execute_result"
    }
   ],
   "source": [
    "stories_df.shape"
   ]
  },
  {
   "cell_type": "code",
   "execution_count": 5,
   "metadata": {},
   "outputs": [
    {
     "data": {
      "text/plain": [
       "5869"
      ]
     },
     "execution_count": 5,
     "metadata": {},
     "output_type": "execute_result"
    }
   ],
   "source": [
    "stories_df.story_id.nunique()"
   ]
  },
  {
   "cell_type": "markdown",
   "metadata": {},
   "source": [
    "## Processing data"
   ]
  },
  {
   "cell_type": "markdown",
   "metadata": {},
   "source": [
    "### Data"
   ]
  },
  {
   "cell_type": "code",
   "execution_count": 6,
   "metadata": {
    "collapsed": true
   },
   "outputs": [],
   "source": [
    "data = stories_df.chapter_text.values"
   ]
  },
  {
   "cell_type": "code",
   "execution_count": 7,
   "metadata": {},
   "outputs": [
    {
     "data": {
      "text/plain": [
       "23978"
      ]
     },
     "execution_count": 7,
     "metadata": {},
     "output_type": "execute_result"
    }
   ],
   "source": [
    "len(data)"
   ]
  },
  {
   "cell_type": "code",
   "execution_count": 8,
   "metadata": {
    "collapsed": true
   },
   "outputs": [],
   "source": [
    "data = [d for d in data if d is not np.nan]"
   ]
  },
  {
   "cell_type": "code",
   "execution_count": 9,
   "metadata": {},
   "outputs": [
    {
     "data": {
      "text/plain": [
       "23972"
      ]
     },
     "execution_count": 9,
     "metadata": {},
     "output_type": "execute_result"
    }
   ],
   "source": [
    "len(data)"
   ]
  },
  {
   "cell_type": "code",
   "execution_count": 10,
   "metadata": {
    "collapsed": true
   },
   "outputs": [],
   "source": [
    "data = [d for d in data if d.strip()]"
   ]
  },
  {
   "cell_type": "code",
   "execution_count": 11,
   "metadata": {},
   "outputs": [
    {
     "data": {
      "text/plain": [
       "23962"
      ]
     },
     "execution_count": 11,
     "metadata": {},
     "output_type": "execute_result"
    }
   ],
   "source": [
    "len(data)"
   ]
  },
  {
   "cell_type": "markdown",
   "metadata": {},
   "source": [
    "### Auxiliar functions"
   ]
  },
  {
   "cell_type": "code",
   "execution_count": 12,
   "metadata": {
    "collapsed": true
   },
   "outputs": [],
   "source": [
    "stop_words = stopwords.words('english')\n",
    "\n",
    "def text2words(text):\n",
    "    text = text.lower()\n",
    "    for p in punctuation:\n",
    "        text = text.replace(p, '')\n",
    "    words = word_tokenize(text)\n",
    "    words = [w for w in words if w not in stop_words]\n",
    "    return words"
   ]
  },
  {
   "cell_type": "markdown",
   "metadata": {},
   "source": [
    "### Histogram"
   ]
  },
  {
   "cell_type": "code",
   "execution_count": 13,
   "metadata": {
    "collapsed": true
   },
   "outputs": [],
   "source": [
    "# %%time\n",
    "\n",
    "# counter = Counter()\n",
    "# for d in data:\n",
    "#     counter += Counter(text2words(d))\n",
    "\n",
    "# CPU times: user 16min 59s, sys: 335 ms, total: 16min 59s\n",
    "# Wall time: 16min 58s"
   ]
  },
  {
   "cell_type": "code",
   "execution_count": 14,
   "metadata": {
    "collapsed": true
   },
   "outputs": [],
   "source": [
    "# with open('data/out/histogram.pickle', 'wb') as f:\n",
    "#     pickle.dump(counter, f)"
   ]
  },
  {
   "cell_type": "code",
   "execution_count": 15,
   "metadata": {
    "collapsed": true
   },
   "outputs": [],
   "source": [
    "with open('data/out/histogram.pickle', 'rb') as f:\n",
    "    counter = pickle.load(f)"
   ]
  },
  {
   "cell_type": "code",
   "execution_count": 16,
   "metadata": {},
   "outputs": [
    {
     "data": {
      "text/plain": [
       "491000"
      ]
     },
     "execution_count": 16,
     "metadata": {},
     "output_type": "execute_result"
    }
   ],
   "source": [
    "len(counter)"
   ]
  },
  {
   "cell_type": "code",
   "execution_count": 17,
   "metadata": {},
   "outputs": [
    {
     "data": {
      "text/plain": [
       "[('said', 128755),\n",
       " ('like', 95848),\n",
       " ('’', 88338),\n",
       " ('back', 87217),\n",
       " ('im', 79575),\n",
       " ('“', 76365),\n",
       " ('”', 75411),\n",
       " ('know', 71827),\n",
       " ('one', 67982),\n",
       " ('get', 67427),\n",
       " ('eyes', 63998),\n",
       " ('dont', 62304),\n",
       " ('go', 55821),\n",
       " ('looked', 54917),\n",
       " ('would', 54179),\n",
       " ('could', 51107),\n",
       " ('see', 49677),\n",
       " ('around', 48069),\n",
       " ('time', 47169),\n",
       " ('got', 47068),\n",
       " ('going', 47065),\n",
       " ('asked', 46158),\n",
       " ('didnt', 45679),\n",
       " ('khocircng', 44453),\n",
       " ('head', 42748),\n",
       " ('want', 40971),\n",
       " ('look', 40584),\n",
       " ('face', 39960),\n",
       " ('well', 39852),\n",
       " ('room', 39698),\n",
       " ('really', 38601),\n",
       " ('even', 37462),\n",
       " ('say', 36954),\n",
       " ('lagrave', 36678),\n",
       " ('door', 36365),\n",
       " ('một', 36161),\n",
       " ('away', 35266),\n",
       " ('way', 34834),\n",
       " ('right', 34479),\n",
       " ('think', 33349),\n",
       " ('hand', 33172),\n",
       " ('still', 32024),\n",
       " ('something', 31993),\n",
       " ('us', 31684),\n",
       " ('walked', 31391),\n",
       " ('ta', 30725),\n",
       " ('không', 29602),\n",
       " ('little', 29544),\n",
       " ('coacute', 28611),\n",
       " ('cũng', 28326),\n",
       " ('come', 27680),\n",
       " ('đi', 27656),\n",
       " ('went', 27419),\n",
       " ('love', 27314),\n",
       " ('good', 27163),\n",
       " ('never', 27091),\n",
       " ('started', 26255),\n",
       " ('looking', 26170),\n",
       " ('oh', 26061),\n",
       " ('two', 25692),\n",
       " ('let', 25545),\n",
       " ('made', 25383),\n",
       " ('na', 25265),\n",
       " ('tell', 25184),\n",
       " ('first', 25183),\n",
       " ('make', 25099),\n",
       " ('hair', 25023),\n",
       " ('girl', 24643),\n",
       " ('much', 24618),\n",
       " ('thought', 24539),\n",
       " ('took', 24100),\n",
       " ('smiled', 23983),\n",
       " ('turned', 23774),\n",
       " ('take', 23425),\n",
       " ('youre', 23048),\n",
       " ('saw', 22979),\n",
       " ('next', 22762),\n",
       " ('felt', 22684),\n",
       " ('người', 22425),\n",
       " ('smile', 22194),\n",
       " ('như', 22053),\n",
       " ('put', 22023),\n",
       " ('ngươi', 21999),\n",
       " ('people', 21756),\n",
       " ('school', 21572),\n",
       " ('need', 21557),\n",
       " ('okay', 21495),\n",
       " ('thats', 21410),\n",
       " ('day', 21261),\n",
       " ('says', 21033),\n",
       " ('told', 20981),\n",
       " ('came', 20941),\n",
       " ('cant', 20937),\n",
       " ('long', 20888),\n",
       " ('knew', 20784),\n",
       " ('sure', 20713),\n",
       " ('là', 20704),\n",
       " ('left', 20592),\n",
       " ('voice', 20178),\n",
       " ('ill', 19973)]"
      ]
     },
     "execution_count": 17,
     "metadata": {},
     "output_type": "execute_result"
    }
   ],
   "source": [
    "counter.most_common(100)"
   ]
  },
  {
   "cell_type": "markdown",
   "metadata": {},
   "source": [
    "### Topics"
   ]
  },
  {
   "cell_type": "code",
   "execution_count": 18,
   "metadata": {
    "collapsed": true
   },
   "outputs": [],
   "source": [
    "SIMILARITY_THRESHOLD = 0.5\n",
    "INTERSECTION_THRESHOLD = 5"
   ]
  },
  {
   "cell_type": "code",
   "execution_count": 19,
   "metadata": {
    "collapsed": true
   },
   "outputs": [],
   "source": [
    "lda_unique_topics_df = pd.read_csv('data/out/lda_unique_topics.csv')"
   ]
  },
  {
   "cell_type": "code",
   "execution_count": 20,
   "metadata": {
    "collapsed": true
   },
   "outputs": [],
   "source": [
    "lda_unique_topics_df['METHOD'] = 'LDA'"
   ]
  },
  {
   "cell_type": "code",
   "execution_count": 21,
   "metadata": {
    "collapsed": true
   },
   "outputs": [],
   "source": [
    "nmf_unique_topics_df = pd.read_csv('data/out/nmf_unique_topics.csv')"
   ]
  },
  {
   "cell_type": "code",
   "execution_count": 22,
   "metadata": {
    "collapsed": true
   },
   "outputs": [],
   "source": [
    "nmf_unique_topics_df['METHOD'] = 'NMF'"
   ]
  },
  {
   "cell_type": "code",
   "execution_count": 23,
   "metadata": {
    "collapsed": true
   },
   "outputs": [],
   "source": [
    "all_topics_df = pd.concat([lda_unique_topics_df, nmf_unique_topics_df], ignore_index=True)"
   ]
  },
  {
   "cell_type": "code",
   "execution_count": 24,
   "metadata": {
    "collapsed": true
   },
   "outputs": [],
   "source": [
    "all_topics_df = all_topics_df.sort_values('SIMILARITY', ascending=False)"
   ]
  },
  {
   "cell_type": "code",
   "execution_count": 25,
   "metadata": {},
   "outputs": [
    {
     "data": {
      "text/plain": [
       "104"
      ]
     },
     "execution_count": 25,
     "metadata": {},
     "output_type": "execute_result"
    }
   ],
   "source": [
    "len(all_topics_df)"
   ]
  },
  {
   "cell_type": "code",
   "execution_count": 26,
   "metadata": {},
   "outputs": [
    {
     "name": "stdout",
     "output_type": "stream",
     "text": [
      "CPU times: user 114 ms, sys: 71 µs, total: 114 ms\n",
      "Wall time: 110 ms\n"
     ]
    }
   ],
   "source": [
    "%%time\n",
    "\n",
    "indexes = []\n",
    "\n",
    "for i, row in all_topics_df.iterrows():\n",
    "    add = True\n",
    "    words = set(row.TOPIC.split())\n",
    "    previous_df = all_topics_df.loc[indexes]\n",
    "    for previous_topic in previous_df.TOPIC:\n",
    "        previous_words = set(previous_topic.split())\n",
    "        intersect = words.intersection(previous_words)\n",
    "        if len(intersect) >= INTERSECTION_THRESHOLD:\n",
    "            add = False\n",
    "            break\n",
    "    if add:\n",
    "        indexes.append(i)"
   ]
  },
  {
   "cell_type": "code",
   "execution_count": 27,
   "metadata": {
    "collapsed": true
   },
   "outputs": [],
   "source": [
    "unique_topics_df = all_topics_df.loc[indexes]"
   ]
  },
  {
   "cell_type": "code",
   "execution_count": 28,
   "metadata": {},
   "outputs": [
    {
     "data": {
      "text/plain": [
       "68"
      ]
     },
     "execution_count": 28,
     "metadata": {},
     "output_type": "execute_result"
    }
   ],
   "source": [
    "len(unique_topics_df)"
   ]
  },
  {
   "cell_type": "code",
   "execution_count": 29,
   "metadata": {
    "collapsed": true
   },
   "outputs": [],
   "source": [
    "topic_words = set()\n",
    "for topic in unique_topics_df.TOPIC:\n",
    "    topic_words = topic_words.union(topic.split())"
   ]
  },
  {
   "cell_type": "code",
   "execution_count": 30,
   "metadata": {
    "collapsed": true
   },
   "outputs": [],
   "source": [
    "topic_counter = Counter()\n",
    "for word in topic_words:\n",
    "    topic_counter[word] = counter[word]"
   ]
  },
  {
   "cell_type": "code",
   "execution_count": 31,
   "metadata": {},
   "outputs": [
    {
     "data": {
      "text/plain": [
       "[('said', 128755),\n",
       " ('like', 95848),\n",
       " ('know', 71827),\n",
       " ('eyes', 63998),\n",
       " ('looked', 54917),\n",
       " ('time', 47169),\n",
       " ('got', 47068),\n",
       " ('going', 47065),\n",
       " ('asked', 46158),\n",
       " ('head', 42748),\n",
       " ('want', 40971),\n",
       " ('look', 40584),\n",
       " ('face', 39960),\n",
       " ('room', 39698),\n",
       " ('say', 36954),\n",
       " ('door', 36365),\n",
       " ('away', 35266),\n",
       " ('way', 34834),\n",
       " ('right', 34479),\n",
       " ('think', 33349),\n",
       " ('hand', 33172),\n",
       " ('walked', 31391),\n",
       " ('little', 29544),\n",
       " ('come', 27680),\n",
       " ('went', 27419),\n",
       " ('love', 27314),\n",
       " ('good', 27163),\n",
       " ('started', 26255),\n",
       " ('looking', 26170),\n",
       " ('oh', 26061),\n",
       " ('let', 25545),\n",
       " ('tell', 25184),\n",
       " ('make', 25099),\n",
       " ('hair', 25023),\n",
       " ('girl', 24643),\n",
       " ('thought', 24539),\n",
       " ('took', 24100),\n",
       " ('turned', 23774),\n",
       " ('saw', 22979),\n",
       " ('felt', 22684),\n",
       " ('smile', 22194),\n",
       " ('people', 21756),\n",
       " ('school', 21572),\n",
       " ('need', 21557),\n",
       " ('day', 21261),\n",
       " ('says', 21033),\n",
       " ('told', 20981),\n",
       " ('came', 20941),\n",
       " ('long', 20888),\n",
       " ('knew', 20784),\n",
       " ('sure', 20713),\n",
       " ('left', 20592),\n",
       " ('voice', 20178),\n",
       " ('bed', 19701),\n",
       " ('feel', 19537),\n",
       " ('hands', 19502),\n",
       " ('heard', 19148),\n",
       " ('yeah', 18797),\n",
       " ('house', 18438),\n",
       " ('wanted', 18340),\n",
       " ('man', 18255),\n",
       " ('guys', 18185),\n",
       " ('sat', 17723),\n",
       " ('home', 17462),\n",
       " ('help', 16649),\n",
       " ('thing', 16223),\n",
       " ('trying', 16133),\n",
       " ('new', 16081),\n",
       " ('nodded', 16006),\n",
       " ('mom', 15775),\n",
       " ('black', 15473),\n",
       " ('getting', 15354),\n",
       " ('pulled', 15338),\n",
       " ('car', 15220),\n",
       " ('phone', 15113),\n",
       " ('walk', 15018),\n",
       " ('yes', 14745),\n",
       " ('quickly', 14744),\n",
       " ('stop', 14635),\n",
       " ('life', 14594),\n",
       " ('night', 14532),\n",
       " ('things', 14427),\n",
       " ('mean', 14410),\n",
       " ('making', 14407),\n",
       " ('gave', 14301),\n",
       " ('best', 14165),\n",
       " ('walking', 13908),\n",
       " ('arms', 13797),\n",
       " ('bit', 13756),\n",
       " ('boy', 13640),\n",
       " ('small', 13422),\n",
       " ('ran', 13317),\n",
       " ('leave', 13176),\n",
       " ('friend', 13122),\n",
       " ('ask', 13116),\n",
       " ('body', 12990),\n",
       " ('open', 12963),\n",
       " ('hear', 12950),\n",
       " ('talk', 12884),\n",
       " ('mind', 12511)]"
      ]
     },
     "execution_count": 31,
     "metadata": {},
     "output_type": "execute_result"
    }
   ],
   "source": [
    "topic_counter.most_common(100)"
   ]
  },
  {
   "cell_type": "code",
   "execution_count": 32,
   "metadata": {
    "collapsed": true
   },
   "outputs": [],
   "source": [
    "def count_words(x):\n",
    "    return sum([topic_counter[w] for w in x.split()])\n",
    "\n",
    "unique_topics_df['FREQUENCY'] = unique_topics_df.TOPIC.apply(count_words)"
   ]
  },
  {
   "cell_type": "code",
   "execution_count": 33,
   "metadata": {
    "collapsed": true
   },
   "outputs": [],
   "source": [
    "unique_topics_df = unique_topics_df.sort_values('FREQUENCY', ascending=False)"
   ]
  },
  {
   "cell_type": "code",
   "execution_count": 34,
   "metadata": {},
   "outputs": [
    {
     "data": {
      "text/html": [
       "<div>\n",
       "<style>\n",
       "    .dataframe thead tr:only-child th {\n",
       "        text-align: right;\n",
       "    }\n",
       "\n",
       "    .dataframe thead th {\n",
       "        text-align: left;\n",
       "    }\n",
       "\n",
       "    .dataframe tbody tr th {\n",
       "        vertical-align: top;\n",
       "    }\n",
       "</style>\n",
       "<table border=\"1\" class=\"dataframe\">\n",
       "  <thead>\n",
       "    <tr style=\"text-align: right;\">\n",
       "      <th></th>\n",
       "      <th>SIMILARITY</th>\n",
       "      <th>TOPIC</th>\n",
       "      <th>N_TOPICS</th>\n",
       "      <th>METHOD</th>\n",
       "      <th>FREQUENCY</th>\n",
       "    </tr>\n",
       "  </thead>\n",
       "  <tbody>\n",
       "    <tr>\n",
       "      <th>97</th>\n",
       "      <td>0.511988</td>\n",
       "      <td>said asked looking yelled smiling know walkin...</td>\n",
       "      <td>74</td>\n",
       "      <td>NMF</td>\n",
       "      <td>694378</td>\n",
       "    </tr>\n",
       "    <tr>\n",
       "      <th>70</th>\n",
       "      <td>0.574911</td>\n",
       "      <td>looked saw looking felt turned look ran heard...</td>\n",
       "      <td>153</td>\n",
       "      <td>NMF</td>\n",
       "      <td>539242</td>\n",
       "    </tr>\n",
       "    <tr>\n",
       "      <th>6</th>\n",
       "      <td>0.633045</td>\n",
       "      <td>eyes face lips smile hands hand like body voi...</td>\n",
       "      <td>87</td>\n",
       "      <td>LDA</td>\n",
       "      <td>521487</td>\n",
       "    </tr>\n",
       "    <tr>\n",
       "      <th>22</th>\n",
       "      <td>0.564767</td>\n",
       "      <td>school face eyes girl black turned desk don w...</td>\n",
       "      <td>167</td>\n",
       "      <td>LDA</td>\n",
       "      <td>488727</td>\n",
       "    </tr>\n",
       "    <tr>\n",
       "      <th>89</th>\n",
       "      <td>0.523840</td>\n",
       "      <td>time day going way work good make long things...</td>\n",
       "      <td>97</td>\n",
       "      <td>NMF</td>\n",
       "      <td>484774</td>\n",
       "    </tr>\n",
       "  </tbody>\n",
       "</table>\n",
       "</div>"
      ],
      "text/plain": [
       "    SIMILARITY                                              TOPIC  N_TOPICS  \\\n",
       "97    0.511988   said asked looking yelled smiling know walkin...        74   \n",
       "70    0.574911   looked saw looking felt turned look ran heard...       153   \n",
       "6     0.633045   eyes face lips smile hands hand like body voi...        87   \n",
       "22    0.564767   school face eyes girl black turned desk don w...       167   \n",
       "89    0.523840   time day going way work good make long things...        97   \n",
       "\n",
       "   METHOD  FREQUENCY  \n",
       "97    NMF     694378  \n",
       "70    NMF     539242  \n",
       "6     LDA     521487  \n",
       "22    LDA     488727  \n",
       "89    NMF     484774  "
      ]
     },
     "execution_count": 34,
     "metadata": {},
     "output_type": "execute_result"
    }
   ],
   "source": [
    "unique_topics_df.head()"
   ]
  },
  {
   "cell_type": "code",
   "execution_count": 35,
   "metadata": {
    "scrolled": false
   },
   "outputs": [
    {
     "name": "stdout",
     "output_type": "stream",
     "text": [
      "1 - 694378 - 0.5119875519994187 - NMF\n",
      "said asked looking yelled smiling know walking laughing did walked like want went got saw just heard let come going\n",
      "\n",
      "2 - 539242 - 0.5749114842845493 - NMF\n",
      "looked saw looking felt turned look ran heard sat stopped stood opened came face confused said took noticed gave thought\n",
      "\n",
      "3 - 521487 - 0.6330450241102841 - LDA\n",
      "eyes face lips smile hands hand like body voice head felt mouth hair feel feeling fingers way moment small words\n",
      "\n",
      "4 - 488727 - 0.5647672524187922 - LDA\n",
      "school face eyes girl black turned desk don way know want day chair saw life year high head thing arm\n",
      "\n",
      "5 - 484774 - 0.5238401699327233 - NMF\n",
      "time day going way work good make long things sure thought little think home place days come right night thing\n",
      "\n",
      "6 - 440095 - 0.5156750438651204 - NMF\n",
      "did knew wanted thought care know look happened like mean felt hurt want anymore liked tried needed tell answer loved\n",
      "\n",
      "7 - 417644 - 0.53984274411519 - NMF\n",
      "asked told answered said nodded explained yes stated question yelled answer confused looking tell exclaimed called ask room think shouted\n",
      "\n",
      "8 - 377161 - 0.6283909457053908 - LDA\n",
      "book read books reading opening living pick case leave started like time bag thing taking know making best hands placed\n",
      "\n",
      "9 - 366851 - 0.5091604036821392 - LDA\n",
      "mom love head eyes house honey red yeah father fuck turn door bye place pull look car tears open light\n",
      "\n",
      "10 - 365733 - 0.5621425783493569 - NMF\n",
      "want going ca tell need make feel leave think does talk try help let comment hurt stay come stop care\n",
      "\n",
      "11 - 326330 - 0.5033732482461503 - NMF\n",
      "know let need mean knows yes talk thing right better understand talking trust wrong help doing answer explain look wish\n",
      "\n",
      "12 - 323689 - 0.6369746603676049 - LDA\n",
      "room door open floor bed table small window wall hall voice inside doors chair stairs eyes hallway glass kitchen head\n",
      "\n",
      "13 - 320364 - 0.6484281229425437 - NMF\n",
      "look walk looks asks smile head smiles walks turn nod ask start hear say face hand nods starts grab turns\n",
      "\n",
      "14 - 288315 - 0.5757630595193737 - NMF\n",
      "told tell knew wanted telling talk happened believe going talking saw called secret came truth ask leave gave talked saying\n",
      "\n",
      "15 - 274755 - 0.6276847845499061 - LDA\n",
      "pain ball hit arm ground leg wrist head hurt hand fell stomach right cut face left let fall threw legs\n",
      "\n",
      "16 - 264353 - 0.5440703107461047 - NMF\n",
      "hand arm holding held let hands took shoulder away grabbed hold touch mouth cheek reached placed shake pulling right fingers\n",
      "\n",
      "17 - 264301 - 0.5506637182196158 - LDA\n",
      "water ice cold body air hot bottle sun warm cup feet cool edge shower like face head skin glass run\n",
      "\n",
      "18 - 261914 - 0.5118165945227781 - LDA\n",
      "entire word pretty life make hand world family like note known change class does high heart moment reading truth number\n",
      "\n",
      "19 - 261051 - 0.5166847495929826 - LDA\n",
      "looking making walking pulling getting taking turning grabbing going just trying putting away giving way seeing smirk causing leaving smirked\n",
      "\n",
      "20 - 260894 - 0.5198967503175584 - LDA\n",
      "room food clothes shower bathroom kitchen bed morning shirt eat hair breakfast went black water house table ready good dress\n",
      "\n",
      "21 - 257099 - 0.5239064302796582 - NMF\n",
      "say hear laugh yell saying tell yes need laughing goodbye kiss words ask says smiling reply sit turn looking thing\n",
      "\n",
      "22 - 255491 - 0.5799800709087749 - LDA\n",
      "fight gun people ground group magic power use let shot right attack fighting kill wall need time hit help way\n",
      "\n",
      "23 - 249788 - 0.5303394817538182 - NMF\n",
      "james date dance going talk black night girlfriend need start room step obviously lead single chair look sitting brown laughter\n",
      "\n",
      "24 - 244454 - 0.5007643968300358 - LDA\n",
      "food eat store eating counter smell bags bag clothes stuff money grab pick help sir let looking walking eye like\n",
      "\n",
      "25 - 234939 - 0.5863283117901417 - LDA\n",
      "song game play music playing dance dare played truth guys let like love beat bottle favorite start end fun listening\n",
      "\n",
      "26 - 229391 - 0.6722436207494797 - LDA\n",
      "car drive seat road park driving bag drove home ride house window door inside hand bags head street taking pick\n",
      "\n",
      "27 - 228460 - 0.5237274245159858 - NMF\n",
      "wolf forest human form white tree growled run ran black eyes pack running gray body killed smell ground looked blood\n",
      "\n",
      "28 - 223095 - 0.5161810126035318 - LDA\n",
      "aunt dear parents picture window honey conversation live pocket stuck sister table home head face school clock kitchen hand type\n",
      "\n",
      "29 - 217587 - 0.5637939708165389 - NMF\n",
      "look looking looks cute picture turn mirror eye hear staring run hell stop gave stare open try stand giving sit\n",
      "\n",
      "30 - 210578 - 0.5301206323142936 - LDA\n",
      "food table james eating lunch dinner order sit breakfast bite sitting stomach seat finished mouth sat set spot finish like\n",
      "\n",
      "31 - 209441 - 0.5904843332631801 - NMF\n",
      "father mother family years old man parents brother life son daughter child sister woman young king year children time day\n",
      "\n",
      "32 - 198545 - 0.5129762643617133 - NMF\n",
      "going need getting week tonight happen coming today leaving ready leave date excited probably hell pick try promise happening goes\n",
      "\n",
      "33 - 197398 - 0.5802188028084054 - NMF\n",
      "forest tree dark magic light ground world power feet small dream eyes place saw sun night death large air fear\n",
      "\n",
      "34 - 197257 - 0.6037851301931524 - LDA\n",
      "table coffee shop counter box cup kitchen drink took work glass taking hand order bag seat paper time sitting placed\n",
      "\n",
      "35 - 195161 - 0.5269336229284086 - LDA\n",
      "box gun shot pointed inside got pulled dead help pressed bar pointing holding wrapped open jacket stuff pocket head finger\n",
      "\n",
      "36 - 194931 - 0.5402126769904185 - NMF\n",
      "head shook nod shaking shake come hit shoulder arms sigh slowly nodded lap chest turn grab ears ground heading floor\n",
      "\n",
      "37 - 190612 - 0.5116590641900239 - NMF\n",
      "ran yelled running saw run heard grabbed screamed ground jumped fell fast hit quickly threw shouted coming gun came pushed\n",
      "\n",
      "38 - 188522 - 0.5383651789658389 - NMF\n",
      "home dinner walk stay park coming walking come tomorrow missed left leave drunk drive work street place leaving safe gone\n",
      "\n",
      "39 - 178137 - 0.5080939906326902 - NMF\n",
      "writing start free stuff feel time continue probably lot decided try hi help comment point paper promise reading message fan\n",
      "\n",
      "40 - 168240 - 0.5073266189546981 - LDA\n",
      "window sky outside view space sun lights light inside staring filled night closed house open middle bedroom falling dark room\n",
      "\n",
      "41 - 165752 - 0.5863152835794192 - LDA\n",
      "man men glass blood wall street tall boy throat god town face forward help drink sir arm case nose red\n",
      "\n",
      "42 - 164072 - 0.5112251165406209 - LDA\n",
      "son john face comment plan place attention minutes point knows oh surprise cause met air parents control conversation familiar course\n",
      "\n",
      "43 - 160437 - 0.559624758264566 - LDA\n",
      "money pay means order business job bags work form life used food names living got live use make pocket enjoy\n",
      "\n",
      "44 - 159450 - 0.5005350810361402 - LDA\n",
      "eu bus 10 ride tv stop case set minute time area hours place favorite bag day minutes waited stuff arrived\n",
      "\n",
      "45 - 157250 - 0.6421888141867366 - NMF\n",
      "black hair white blue red brown dark green shirt color wearing dress jeans pink light long purple grey blonde wear\n",
      "\n",
      "46 - 156302 - 0.5232910198088625 - NMF\n",
      "picture took screen look showed person saw view fan box piece played bag question sent favorite handed remember met cover\n",
      "\n",
      "47 - 153696 - 0.5002210023408244 - NMF\n",
      "ice cold shop eat hate store counter leg instead park watch fall summer making time hit white feeling gave spot\n",
      "\n",
      "48 - 153499 - 0.5949822345000999 - LDA\n",
      "office desk lady chair woman means meeting floor building doors seat man work case mean old business does room screen\n",
      "\n",
      "49 - 151270 - 0.5342730144766971 - LDA\n",
      "dress date park leo wear picture wearing fit moment comment main place surprise fan going girl change shoes short met\n",
      "\n",
      "50 - 147395 - 0.6221522230372238 - NMF\n",
      "pack alpha head line clothes bags bag run leave safe rest stuff running ready attack form hurt office mate fight\n",
      "\n",
      "51 - 145396 - 0.5822935086838461 - NMF\n",
      "does knows wants mean gets makes likes looks takes care matter feels things goes hate mind relationship think starts comes\n",
      "\n",
      "52 - 140867 - 0.5922285034294336 - NMF\n",
      "story reading work comment short note writing make thanks means try idea main use vote cover real write let check\n",
      "\n",
      "53 - 134439 - 0.5161851888729081 - NMF\n",
      "park walk girlfriend walking street meet ride running tree played ran play shop kids hang ball sign near group hand\n",
      "\n",
      "54 - 133739 - 0.5449329337067469 - LDA\n",
      "party john bar drink club drunk bottle guy night glass tonight man dance fun floor people friend cup glasses music\n",
      "\n",
      "55 - 131999 - 0.5303621700570534 - LDA\n",
      "blood band case drink lead music kill new normal bit half means given cut surprised seconds set people help type\n",
      "\n",
      "56 - 127462 - 0.6402015347323387 - LDA\n",
      "box picture bags stairs closet open bag shoes pack till pull door doors walk steps turn lights putting reach upstairs\n",
      "\n",
      "57 - 126040 - 0.5862196677359428 - LDA\n",
      "picture box paper town piece screen small read pocket counter kitchen inside sign wall left case city clock people set\n",
      "\n",
      "58 - 124922 - 0.5699952655160818 - LDA\n",
      "bus stage band crowd guys people music favorite waiting seat stop line screaming meet direction lights rest excited fan set\n",
      "\n",
      "59 - 121129 - 0.646932983514499 - LDA\n",
      "team ball park dream game play line hit won running playing run ready fast air throw shot right pass set\n",
      "\n",
      "60 - 112975 - 0.5336940291125348 - NMF\n",
      "favorite color eye 10 age food questions thing picture red fun blue real purple reading store hate form type things\n",
      "\n",
      "61 - 111375 - 0.5287555464559701 - LDA\n",
      "phone text number message screen pocket hello hung calling read sent reply home guy answer rang pick called line contact\n",
      "\n",
      "62 - 110371 - 0.5555677309763182 - LDA\n",
      "shop store counter bag grey order pay ice sign busy street place handed small change bar pocket looking asking called\n",
      "\n",
      "63 - 106033 - 0.5380873320277753 - LDA\n",
      "blood pain neck wrist bite red pale skin teeth drink killed cut hurt control mouth throat kill body smell lying\n",
      "\n",
      "64 - 105768 - 0.5779384035104682 - LDA\n",
      "ice apartment city building street man cold jacket park place bar road middle men live lights home outside town sun\n",
      "\n",
      "65 - 97142 - 0.5328496341617573 - NMF\n",
      "books reading lot pick desk hall old given funny liked book bell simple break stuff floor writing check shop young\n",
      "\n",
      "66 - 96120 - 0.5290345810150486 - LDA\n",
      "water box movie watch birthday watching tv couch watched screen sun set edge picked sign feet sitting lights favorite open\n",
      "\n",
      "67 - 89496 - 0.5842140306328835 - LDA\n",
      "chance questions answer question moment ask asking fit word given sort attention met explain conversation sense point drop contact lead\n",
      "\n",
      "68 - 84489 - 0.5189552560623524 - LDA\n",
      "glass glasses water screen table lights pressed speak drink floor mirror dropped pull stuck seconds case throat taken sit locked\n",
      "\n"
     ]
    }
   ],
   "source": [
    "for i, (j, row) in enumerate(unique_topics_df.iterrows()):\n",
    "    print(i + 1, '-', row.FREQUENCY, '-', row.SIMILARITY, '-', row.METHOD)\n",
    "    print(row.TOPIC.strip())\n",
    "    print()"
   ]
  },
  {
   "cell_type": "markdown",
   "metadata": {},
   "source": [
    "## Saving data"
   ]
  },
  {
   "cell_type": "code",
   "execution_count": null,
   "metadata": {
    "collapsed": true
   },
   "outputs": [],
   "source": []
  }
 ],
 "metadata": {
  "kernelspec": {
   "display_name": "Python 3",
   "language": "python",
   "name": "python3"
  },
  "language_info": {
   "codemirror_mode": {
    "name": "ipython",
    "version": 3
   },
   "file_extension": ".py",
   "mimetype": "text/x-python",
   "name": "python",
   "nbconvert_exporter": "python",
   "pygments_lexer": "ipython3",
   "version": "3.5.2"
  }
 },
 "nbformat": 4,
 "nbformat_minor": 2
}
