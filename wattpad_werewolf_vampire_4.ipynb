{
 "cells": [
  {
   "cell_type": "markdown",
   "metadata": {},
   "source": [
    "# NMF\n"
   ]
  },
  {
   "cell_type": "code",
   "execution_count": 1,
   "metadata": {
    "collapsed": true
   },
   "outputs": [],
   "source": [
    "import numpy as np\n",
    "import pandas as pd\n",
    "from nltk import word_tokenize\n",
    "from nltk.corpus import wordnet as wn\n",
    "from sklearn.feature_extraction.text import TfidfVectorizer, CountVectorizer\n",
    "from sklearn.decomposition import NMF, LatentDirichletAllocation"
   ]
  },
  {
   "cell_type": "markdown",
   "metadata": {},
   "source": [
    "## Loading data"
   ]
  },
  {
   "cell_type": "markdown",
   "metadata": {},
   "source": [
    "### Topics"
   ]
  },
  {
   "cell_type": "code",
   "execution_count": 2,
   "metadata": {
    "collapsed": true
   },
   "outputs": [],
   "source": [
    "topics_df = pd.read_csv('data/out/nmf_winners.csv', names=['SIMILARITY', 'TOPIC', 'N_TOPICS'])"
   ]
  },
  {
   "cell_type": "code",
   "execution_count": 3,
   "metadata": {},
   "outputs": [
    {
     "data": {
      "text/html": [
       "<div>\n",
       "<style>\n",
       "    .dataframe thead tr:only-child th {\n",
       "        text-align: right;\n",
       "    }\n",
       "\n",
       "    .dataframe thead th {\n",
       "        text-align: left;\n",
       "    }\n",
       "\n",
       "    .dataframe tbody tr th {\n",
       "        vertical-align: top;\n",
       "    }\n",
       "</style>\n",
       "<table border=\"1\" class=\"dataframe\">\n",
       "  <thead>\n",
       "    <tr style=\"text-align: right;\">\n",
       "      <th></th>\n",
       "      <th>SIMILARITY</th>\n",
       "      <th>TOPIC</th>\n",
       "      <th>N_TOPICS</th>\n",
       "    </tr>\n",
       "  </thead>\n",
       "  <tbody>\n",
       "    <tr>\n",
       "      <th>0</th>\n",
       "      <td>0.648428</td>\n",
       "      <td>look walk looks asks smile head smiles walks ...</td>\n",
       "      <td>100</td>\n",
       "    </tr>\n",
       "    <tr>\n",
       "      <th>1</th>\n",
       "      <td>0.645495</td>\n",
       "      <td>look walk looks smile head asks smiles walks ...</td>\n",
       "      <td>136</td>\n",
       "    </tr>\n",
       "    <tr>\n",
       "      <th>2</th>\n",
       "      <td>0.642189</td>\n",
       "      <td>black hair white blue red brown dark green sh...</td>\n",
       "      <td>134</td>\n",
       "    </tr>\n",
       "    <tr>\n",
       "      <th>3</th>\n",
       "      <td>0.640779</td>\n",
       "      <td>asks ask smiles nods nod laughs looks takes t...</td>\n",
       "      <td>104</td>\n",
       "    </tr>\n",
       "    <tr>\n",
       "      <th>4</th>\n",
       "      <td>0.640779</td>\n",
       "      <td>asks ask smiles looks nods nod laughs smile w...</td>\n",
       "      <td>172</td>\n",
       "    </tr>\n",
       "  </tbody>\n",
       "</table>\n",
       "</div>"
      ],
      "text/plain": [
       "   SIMILARITY                                              TOPIC  N_TOPICS\n",
       "0    0.648428   look walk looks asks smile head smiles walks ...       100\n",
       "1    0.645495   look walk looks smile head asks smiles walks ...       136\n",
       "2    0.642189   black hair white blue red brown dark green sh...       134\n",
       "3    0.640779   asks ask smiles nods nod laughs looks takes t...       104\n",
       "4    0.640779   asks ask smiles looks nods nod laughs smile w...       172"
      ]
     },
     "execution_count": 3,
     "metadata": {},
     "output_type": "execute_result"
    }
   ],
   "source": [
    "topics_df.head()"
   ]
  },
  {
   "cell_type": "code",
   "execution_count": 4,
   "metadata": {},
   "outputs": [
    {
     "data": {
      "text/plain": [
       "(20100, 3)"
      ]
     },
     "execution_count": 4,
     "metadata": {},
     "output_type": "execute_result"
    }
   ],
   "source": [
    "topics_df.shape"
   ]
  },
  {
   "cell_type": "markdown",
   "metadata": {},
   "source": [
    "## Processing data"
   ]
  },
  {
   "cell_type": "code",
   "execution_count": 5,
   "metadata": {
    "collapsed": true
   },
   "outputs": [],
   "source": [
    "SIMILARITY_THRESHOLD = 0.5\n",
    "INTERSECTION_THRESHOLD = 5"
   ]
  },
  {
   "cell_type": "markdown",
   "metadata": {},
   "source": [
    "### Topics"
   ]
  },
  {
   "cell_type": "code",
   "execution_count": 6,
   "metadata": {
    "collapsed": true
   },
   "outputs": [],
   "source": [
    "top_topics_df = topics_df[topics_df.SIMILARITY >= SIMILARITY_THRESHOLD]"
   ]
  },
  {
   "cell_type": "code",
   "execution_count": 7,
   "metadata": {},
   "outputs": [
    {
     "data": {
      "text/plain": [
       "2865"
      ]
     },
     "execution_count": 7,
     "metadata": {},
     "output_type": "execute_result"
    }
   ],
   "source": [
    "len(top_topics_df)"
   ]
  },
  {
   "cell_type": "code",
   "execution_count": 8,
   "metadata": {},
   "outputs": [
    {
     "name": "stdout",
     "output_type": "stream",
     "text": [
      "CPU times: user 2.73 s, sys: 44.2 ms, total: 2.78 s\n",
      "Wall time: 2.56 s\n"
     ]
    }
   ],
   "source": [
    "%%time\n",
    "\n",
    "indexes = []\n",
    "\n",
    "for i, row in top_topics_df.iterrows():\n",
    "    add = True\n",
    "    words = set(row.TOPIC.split())\n",
    "    previous_df = top_topics_df.loc[indexes]\n",
    "    for previous_topic in previous_df.TOPIC:\n",
    "        previous_words = set(previous_topic.split())\n",
    "        intersect = words.intersection(previous_words)\n",
    "        if len(intersect) >= INTERSECTION_THRESHOLD:\n",
    "            add = False\n",
    "            break\n",
    "    if add:\n",
    "        indexes.append(i)"
   ]
  },
  {
   "cell_type": "code",
   "execution_count": 9,
   "metadata": {
    "collapsed": true
   },
   "outputs": [],
   "source": [
    "unique_topics_df = top_topics_df.loc[indexes]"
   ]
  },
  {
   "cell_type": "code",
   "execution_count": 10,
   "metadata": {},
   "outputs": [
    {
     "data": {
      "text/plain": [
       "46"
      ]
     },
     "execution_count": 10,
     "metadata": {},
     "output_type": "execute_result"
    }
   ],
   "source": [
    "len(unique_topics_df)"
   ]
  },
  {
   "cell_type": "code",
   "execution_count": 11,
   "metadata": {},
   "outputs": [
    {
     "data": {
      "text/html": [
       "<div>\n",
       "<style>\n",
       "    .dataframe thead tr:only-child th {\n",
       "        text-align: right;\n",
       "    }\n",
       "\n",
       "    .dataframe thead th {\n",
       "        text-align: left;\n",
       "    }\n",
       "\n",
       "    .dataframe tbody tr th {\n",
       "        vertical-align: top;\n",
       "    }\n",
       "</style>\n",
       "<table border=\"1\" class=\"dataframe\">\n",
       "  <thead>\n",
       "    <tr style=\"text-align: right;\">\n",
       "      <th></th>\n",
       "      <th>SIMILARITY</th>\n",
       "      <th>TOPIC</th>\n",
       "      <th>N_TOPICS</th>\n",
       "    </tr>\n",
       "  </thead>\n",
       "  <tbody>\n",
       "    <tr>\n",
       "      <th>0</th>\n",
       "      <td>0.648428</td>\n",
       "      <td>look walk looks asks smile head smiles walks ...</td>\n",
       "      <td>100</td>\n",
       "    </tr>\n",
       "    <tr>\n",
       "      <th>2</th>\n",
       "      <td>0.642189</td>\n",
       "      <td>black hair white blue red brown dark green sh...</td>\n",
       "      <td>134</td>\n",
       "    </tr>\n",
       "    <tr>\n",
       "      <th>66</th>\n",
       "      <td>0.629752</td>\n",
       "      <td>room living bed floor stairs kitchen table cl...</td>\n",
       "      <td>102</td>\n",
       "    </tr>\n",
       "    <tr>\n",
       "      <th>126</th>\n",
       "      <td>0.622152</td>\n",
       "      <td>pack alpha head line clothes bags bag run lea...</td>\n",
       "      <td>151</td>\n",
       "    </tr>\n",
       "    <tr>\n",
       "      <th>127</th>\n",
       "      <td>0.621926</td>\n",
       "      <td>team game ball play playing won dance hit pla...</td>\n",
       "      <td>109</td>\n",
       "    </tr>\n",
       "  </tbody>\n",
       "</table>\n",
       "</div>"
      ],
      "text/plain": [
       "     SIMILARITY                                              TOPIC  N_TOPICS\n",
       "0      0.648428   look walk looks asks smile head smiles walks ...       100\n",
       "2      0.642189   black hair white blue red brown dark green sh...       134\n",
       "66     0.629752   room living bed floor stairs kitchen table cl...       102\n",
       "126    0.622152   pack alpha head line clothes bags bag run lea...       151\n",
       "127    0.621926   team game ball play playing won dance hit pla...       109"
      ]
     },
     "execution_count": 11,
     "metadata": {},
     "output_type": "execute_result"
    }
   ],
   "source": [
    "unique_topics_df.head()"
   ]
  },
  {
   "cell_type": "code",
   "execution_count": 12,
   "metadata": {
    "scrolled": false
   },
   "outputs": [
    {
     "name": "stdout",
     "output_type": "stream",
     "text": [
      "1 - 0.6484281229425437\n",
      "look walk looks asks smile head smiles walks turn nod ask start hear say face hand nods starts grab turns\n",
      "\n",
      "2 - 0.6421888141867366\n",
      "black hair white blue red brown dark green shirt color wearing dress jeans pink light long purple grey blonde wear\n",
      "\n",
      "3 - 0.6297519278197948\n",
      "room living bed floor stairs kitchen table clothes walls hallway hall couch chair hospital closet dinner window left door wall\n",
      "\n",
      "4 - 0.6221522230372238\n",
      "pack alpha head line clothes bags bag run leave safe rest stuff running ready attack form hurt office mate fight\n",
      "\n",
      "5 - 0.6219258375997435\n",
      "team game ball play playing won dance hit played shot join rest room group high line good beat run end\n",
      "\n",
      "6 - 0.6145783965007526\n",
      "lips kiss hands eyes hand neck kissed body felt arms pulled mouth face kissing fingers chest bed waist tongue head\n",
      "\n",
      "7 - 0.6011015693351099\n",
      "car house drive door drove road driving seat home window got ride school bag minutes street going walk pulled way\n",
      "\n",
      "8 - 0.5922285034294336\n",
      "story reading work comment short note writing make thanks means try idea main use vote cover real write let check\n",
      "\n",
      "9 - 0.5904843332631801\n",
      "father mother family years old man parents brother life son daughter child sister woman young king year children time day\n",
      "\n",
      "10 - 0.5822935086838461\n",
      "does knows wants mean gets makes likes looks takes care matter feels things goes hate mind relationship think starts comes\n",
      "\n",
      "11 - 0.5802188028084054\n",
      "forest tree dark magic light ground world power feet small dream eyes place saw sun night death large air fear\n",
      "\n",
      "12 - 0.5757630595193737\n",
      "told tell knew wanted telling talk happened believe going talking saw called secret came truth ask leave gave talked saying\n",
      "\n",
      "13 - 0.5749114842845493\n",
      "looked saw looking felt turned look ran heard sat stopped stood opened came face confused said took noticed gave thought\n",
      "\n",
      "14 - 0.5702333241505475\n",
      "box inside open paper ring store set hands shop space small blue opened things place special picture stuff music old\n",
      "\n",
      "15 - 0.5688870936153809\n",
      "office desk sir chair job building yes paper meeting room miss seat floor business lunch hall need doors sign good\n",
      "\n",
      "16 - 0.5637939708165389\n",
      "look looking looks cute picture turn mirror eye hear staring run hell stop gave stare open try stand giving sit\n",
      "\n",
      "17 - 0.5636895598523216\n",
      "pain body hurt arm ground leg felt scream hit fear tried floor broken stomach left voice screamed fell feet cut\n",
      "\n",
      "18 - 0.5621425783493569\n",
      "want going ca tell need make feel leave think does talk try help let comment hurt stay come stop care\n",
      "\n",
      "19 - 0.5597746461710941\n",
      "felt feel feeling body pain heart free wanted mind knew stomach warm head cold thoughts skin dream feelings sick thought\n",
      "\n",
      "20 - 0.5558519627042521\n",
      "coffee shop work cup counter apartment morning job table working order office drink kitchen money door place small street store\n",
      "\n",
      "21 - 0.5498032629746007\n",
      "work job working money names used doing need form home case living stuff dead finished worked help pay means use\n",
      "\n",
      "22 - 0.5451152063025517\n",
      "water shower bottle bathroom drink glass cold body clothes hot feet sun edge hair cup warm air skin legs control\n",
      "\n",
      "23 - 0.5440703107461047\n",
      "hand arm holding held let hands took shoulder away grabbed hold touch mouth cheek reached placed shake pulling right fingers\n",
      "\n",
      "24 - 0.5402126769904185\n",
      "head shook nod shaking shake come hit shoulder arms sigh slowly nodded lap chest turn grab ears ground heading floor\n",
      "\n",
      "25 - 0.53984274411519\n",
      "asked told answered said nodded explained yes stated question yelled answer confused looking tell exclaimed called ask room think shouted\n",
      "\n",
      "26 - 0.5383651789658389\n",
      "home dinner walk stay park coming walking come tomorrow missed left leave drunk drive work street place leaving safe gone\n",
      "\n",
      "27 - 0.5336940291125348\n",
      "favorite color eye 10 age food questions thing picture red fun blue real purple reading store hate form type things\n",
      "\n",
      "28 - 0.5328496341617573\n",
      "books reading lot pick desk hall old given funny liked book bell simple break stuff floor writing check shop young\n",
      "\n",
      "29 - 0.5303394817538182\n",
      "james date dance going talk black night girlfriend need start room step obviously lead single chair look sitting brown laughter\n",
      "\n",
      "30 - 0.5246573970360021\n",
      "song music stage dance band play crowd club favorite playing tonight party played amazing night direction drink bar lights listening\n",
      "\n",
      "31 - 0.5239064302796582\n",
      "say hear laugh yell saying tell yes need laughing goodbye kiss words ask says smiling reply sit turn looking thing\n",
      "\n",
      "32 - 0.5238401699327233\n",
      "time day going way work good make long things sure thought little think home place days come right night thing\n",
      "\n",
      "33 - 0.5237274245159858\n",
      "wolf forest human form white tree growled run ran black eyes pack running gray body killed smell ground looked blood\n",
      "\n",
      "34 - 0.5232910198088625\n",
      "picture took screen look showed person saw view fan box piece played bag question sent favorite handed remember met cover\n",
      "\n",
      "35 - 0.5205711783644813\n",
      "gun shot pointed men group ground pulled head dead hear use building scared hell pull question glass hit drop grabbed\n",
      "\n",
      "36 - 0.5161851888729081\n",
      "park walk girlfriend walking street meet ride running tree played ran play shop kids hang ball sign near group hand\n",
      "\n",
      "37 - 0.5156750438651204\n",
      "did knew wanted thought care know look happened like mean felt hurt want anymore liked tried needed tell answer loved\n",
      "\n",
      "38 - 0.5135260271385413\n",
      "man men young old gun king tall sir city die guy money street black doctor building lady bar business large\n",
      "\n",
      "39 - 0.5129762643617133\n",
      "going need getting week tonight happen coming today leaving ready leave date excited probably hell pick try promise happening goes\n",
      "\n",
      "40 - 0.5119875519994187\n",
      "said asked looking yelled smiling know walking laughing did walked like want went got saw just heard let come going\n",
      "\n",
      "41 - 0.5116590641900239\n",
      "ran yelled running saw run heard grabbed screamed ground jumped fell fast hit quickly threw shouted coming gun came pushed\n",
      "\n",
      "42 - 0.5102008284475289\n",
      "looking walking making eyes smiling getting sitting trying taking pulling saw turning seeing away holding grabbing putting quickly standing staring\n",
      "\n",
      "43 - 0.5080939906326902\n",
      "writing start free stuff feel time continue probably lot decided try hi help comment point paper promise reading message fan\n",
      "\n",
      "44 - 0.5033732482461503\n",
      "know let need mean knows yes talk thing right better understand talking trust wrong help doing answer explain look wish\n",
      "\n",
      "45 - 0.5008705781933743\n",
      "food table eat lunch eating kitchen dinner sat sit sitting breakfast seat order finished box bite chair mouth stomach set\n",
      "\n",
      "46 - 0.5002210023408244\n",
      "ice cold shop eat hate store counter leg instead park watch fall summer making time hit white feeling gave spot\n",
      "\n"
     ]
    }
   ],
   "source": [
    "for i, (j, row) in enumerate(unique_topics_df.iterrows()):\n",
    "    print(i + 1, '-', row.SIMILARITY)\n",
    "    print(row.TOPIC.strip())\n",
    "    print()"
   ]
  },
  {
   "cell_type": "markdown",
   "metadata": {},
   "source": [
    "## Saving data"
   ]
  },
  {
   "cell_type": "code",
   "execution_count": 13,
   "metadata": {
    "collapsed": true
   },
   "outputs": [],
   "source": [
    "unique_topics_df.to_csv('data/out/nmf_unique_topics.csv', index=False)"
   ]
  },
  {
   "cell_type": "code",
   "execution_count": null,
   "metadata": {
    "collapsed": true
   },
   "outputs": [],
   "source": []
  }
 ],
 "metadata": {
  "kernelspec": {
   "display_name": "Python 3",
   "language": "python",
   "name": "python3"
  },
  "language_info": {
   "codemirror_mode": {
    "name": "ipython",
    "version": 3
   },
   "file_extension": ".py",
   "mimetype": "text/x-python",
   "name": "python",
   "nbconvert_exporter": "python",
   "pygments_lexer": "ipython3",
   "version": "3.5.2"
  }
 },
 "nbformat": 4,
 "nbformat_minor": 2
}
