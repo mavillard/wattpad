{
 "cells": [
  {
   "cell_type": "markdown",
   "metadata": {},
   "source": [
    "# Wattpad"
   ]
  },
  {
   "cell_type": "code",
   "execution_count": 1,
   "metadata": {
    "collapsed": true
   },
   "outputs": [],
   "source": [
    "from string import punctuation\n",
    "\n",
    "import pandas as pd\n",
    "from nltk.corpus import stopwords\n",
    "from nltk import word_tokenize\n",
    "from IPython.display import display"
   ]
  },
  {
   "cell_type": "markdown",
   "metadata": {},
   "source": [
    "## Loading data"
   ]
  },
  {
   "cell_type": "markdown",
   "metadata": {},
   "source": [
    "### Metadata"
   ]
  },
  {
   "cell_type": "code",
   "execution_count": 2,
   "metadata": {
    "collapsed": true
   },
   "outputs": [],
   "source": [
    "metadata_df = pd.read_csv(\n",
    "    'data/metadata.tsv',\n",
    "    sep='\\t',\n",
    "    names=['story_id', 'story_description', 'category_id', 'story_tags'],\n",
    ")"
   ]
  },
  {
   "cell_type": "code",
   "execution_count": 3,
   "metadata": {},
   "outputs": [
    {
     "data": {
      "text/html": [
       "<div>\n",
       "<style>\n",
       "    .dataframe thead tr:only-child th {\n",
       "        text-align: right;\n",
       "    }\n",
       "\n",
       "    .dataframe thead th {\n",
       "        text-align: left;\n",
       "    }\n",
       "\n",
       "    .dataframe tbody tr th {\n",
       "        vertical-align: top;\n",
       "    }\n",
       "</style>\n",
       "<table border=\"1\" class=\"dataframe\">\n",
       "  <thead>\n",
       "    <tr style=\"text-align: right;\">\n",
       "      <th></th>\n",
       "      <th>story_id</th>\n",
       "      <th>story_description</th>\n",
       "      <th>category_id</th>\n",
       "      <th>story_tags</th>\n",
       "    </tr>\n",
       "  </thead>\n",
       "  <tbody>\n",
       "    <tr>\n",
       "      <th>0</th>\n",
       "      <td>5881</td>\n",
       "      <td>Stuff that is not really important. Contains s...</td>\n",
       "      <td>10</td>\n",
       "      <td>corazon stephen dodge-ball volleyball butterfl...</td>\n",
       "    </tr>\n",
       "    <tr>\n",
       "      <th>1</th>\n",
       "      <td>14620</td>\n",
       "      <td>18 year old Grace has way more responsibilitie...</td>\n",
       "      <td>10</td>\n",
       "      <td>hilton karen underwear forest molest death run...</td>\n",
       "    </tr>\n",
       "    <tr>\n",
       "      <th>2</th>\n",
       "      <td>15577</td>\n",
       "      <td>Can i Have This Dance? Nicki Alab  whom lives ...</td>\n",
       "      <td>10</td>\n",
       "      <td>touching newgirl holding joking revolted close...</td>\n",
       "    </tr>\n",
       "    <tr>\n",
       "      <th>3</th>\n",
       "      <td>24019</td>\n",
       "      <td>Giselle knew what she wanted. She wanted the b...</td>\n",
       "      <td>19</td>\n",
       "      <td>axel giselle liv dream boyfriend braydon seth ...</td>\n",
       "    </tr>\n",
       "    <tr>\n",
       "      <th>4</th>\n",
       "      <td>31450</td>\n",
       "      <td>From the popular anime show Yu Yu Hakusho come...</td>\n",
       "      <td>19</td>\n",
       "      <td>myruki yuyugang kurama spirit youko yuyuhakush...</td>\n",
       "    </tr>\n",
       "  </tbody>\n",
       "</table>\n",
       "</div>"
      ],
      "text/plain": [
       "   story_id                                  story_description  category_id  \\\n",
       "0      5881  Stuff that is not really important. Contains s...           10   \n",
       "1     14620  18 year old Grace has way more responsibilitie...           10   \n",
       "2     15577  Can i Have This Dance? Nicki Alab  whom lives ...           10   \n",
       "3     24019  Giselle knew what she wanted. She wanted the b...           19   \n",
       "4     31450  From the popular anime show Yu Yu Hakusho come...           19   \n",
       "\n",
       "                                          story_tags  \n",
       "0  corazon stephen dodge-ball volleyball butterfl...  \n",
       "1  hilton karen underwear forest molest death run...  \n",
       "2  touching newgirl holding joking revolted close...  \n",
       "3  axel giselle liv dream boyfriend braydon seth ...  \n",
       "4  myruki yuyugang kurama spirit youko yuyuhakush...  "
      ]
     },
     "execution_count": 3,
     "metadata": {},
     "output_type": "execute_result"
    }
   ],
   "source": [
    "metadata_df.head()"
   ]
  },
  {
   "cell_type": "code",
   "execution_count": 4,
   "metadata": {},
   "outputs": [
    {
     "data": {
      "text/plain": [
       "(245851, 4)"
      ]
     },
     "execution_count": 4,
     "metadata": {},
     "output_type": "execute_result"
    }
   ],
   "source": [
    "metadata_df.shape"
   ]
  },
  {
   "cell_type": "code",
   "execution_count": 43,
   "metadata": {},
   "outputs": [
    {
     "data": {
      "text/plain": [
       "245704"
      ]
     },
     "execution_count": 43,
     "metadata": {},
     "output_type": "execute_result"
    }
   ],
   "source": [
    "metadata_df.story_id.nunique()"
   ]
  },
  {
   "cell_type": "markdown",
   "metadata": {},
   "source": [
    "### Sample"
   ]
  },
  {
   "cell_type": "code",
   "execution_count": 5,
   "metadata": {
    "collapsed": true
   },
   "outputs": [],
   "source": [
    "sample_df = pd.read_csv('data/sample.tsv', sep='\\t', names=['story_id', 'chapter_id', 'chapter_index', 'chapter_text'])"
   ]
  },
  {
   "cell_type": "code",
   "execution_count": 6,
   "metadata": {},
   "outputs": [
    {
     "data": {
      "text/html": [
       "<div>\n",
       "<style>\n",
       "    .dataframe thead tr:only-child th {\n",
       "        text-align: right;\n",
       "    }\n",
       "\n",
       "    .dataframe thead th {\n",
       "        text-align: left;\n",
       "    }\n",
       "\n",
       "    .dataframe tbody tr th {\n",
       "        vertical-align: top;\n",
       "    }\n",
       "</style>\n",
       "<table border=\"1\" class=\"dataframe\">\n",
       "  <thead>\n",
       "    <tr style=\"text-align: right;\">\n",
       "      <th></th>\n",
       "      <th>story_id</th>\n",
       "      <th>chapter_id</th>\n",
       "      <th>chapter_index</th>\n",
       "      <th>chapter_text</th>\n",
       "    </tr>\n",
       "  </thead>\n",
       "  <tbody>\n",
       "    <tr>\n",
       "      <th>0</th>\n",
       "      <td>35</td>\n",
       "      <td>183814</td>\n",
       "      <td>0</td>\n",
       "      <td>We caught up on a lot of things that happened ...</td>\n",
       "    </tr>\n",
       "    <tr>\n",
       "      <th>1</th>\n",
       "      <td>35</td>\n",
       "      <td>184177</td>\n",
       "      <td>1</td>\n",
       "      <td>They split up to enclose around me.  Crap.  Wh...</td>\n",
       "    </tr>\n",
       "    <tr>\n",
       "      <th>2</th>\n",
       "      <td>35</td>\n",
       "      <td>184771</td>\n",
       "      <td>2</td>\n",
       "      <td>Where's Bing?  Why aren't any of your roommate...</td>\n",
       "    </tr>\n",
       "    <tr>\n",
       "      <th>3</th>\n",
       "      <td>35</td>\n",
       "      <td>185259</td>\n",
       "      <td>3</td>\n",
       "      <td>Question Vote (it really helps I know) Copyrig...</td>\n",
       "    </tr>\n",
       "    <tr>\n",
       "      <th>4</th>\n",
       "      <td>35</td>\n",
       "      <td>186546</td>\n",
       "      <td>4</td>\n",
       "      <td>I want to marry Miss, I need your blessing.  Y...</td>\n",
       "    </tr>\n",
       "  </tbody>\n",
       "</table>\n",
       "</div>"
      ],
      "text/plain": [
       "   story_id  chapter_id  chapter_index  \\\n",
       "0        35      183814              0   \n",
       "1        35      184177              1   \n",
       "2        35      184771              2   \n",
       "3        35      185259              3   \n",
       "4        35      186546              4   \n",
       "\n",
       "                                        chapter_text  \n",
       "0  We caught up on a lot of things that happened ...  \n",
       "1  They split up to enclose around me.  Crap.  Wh...  \n",
       "2  Where's Bing?  Why aren't any of your roommate...  \n",
       "3  Question Vote (it really helps I know) Copyrig...  \n",
       "4  I want to marry Miss, I need your blessing.  Y...  "
      ]
     },
     "execution_count": 6,
     "metadata": {},
     "output_type": "execute_result"
    }
   ],
   "source": [
    "sample_df.head()"
   ]
  },
  {
   "cell_type": "code",
   "execution_count": 7,
   "metadata": {},
   "outputs": [
    {
     "data": {
      "text/plain": [
       "(1000, 4)"
      ]
     },
     "execution_count": 7,
     "metadata": {},
     "output_type": "execute_result"
    }
   ],
   "source": [
    "sample_df.shape"
   ]
  },
  {
   "cell_type": "markdown",
   "metadata": {},
   "source": [
    "### Stories"
   ]
  },
  {
   "cell_type": "code",
   "execution_count": null,
   "metadata": {
    "collapsed": true
   },
   "outputs": [],
   "source": [
    "CHUNK_SIZE = 1000"
   ]
  },
  {
   "cell_type": "code",
   "execution_count": 41,
   "metadata": {},
   "outputs": [
    {
     "name": "stdout",
     "output_type": "stream",
     "text": [
      "CPU times: user 2.56 ms, sys: 0 ns, total: 2.56 ms\n",
      "Wall time: 1.87 ms\n"
     ]
    }
   ],
   "source": [
    "%%time\n",
    "stories_df = pd.read_csv(\n",
    "    'data/stories.tsv',\n",
    "    sep='\\t',\n",
    "    names=['story_id', 'chapter_id', 'chapter_index', 'chapter_text'],\n",
    "    chunksize=CHUNK_SIZE,\n",
    ")"
   ]
  },
  {
   "cell_type": "code",
   "execution_count": 9,
   "metadata": {},
   "outputs": [
    {
     "data": {
      "text/plain": [
       "pandas.io.parsers.TextFileReader"
      ]
     },
     "execution_count": 9,
     "metadata": {},
     "output_type": "execute_result"
    }
   ],
   "source": [
    "type(stories_df)"
   ]
  },
  {
   "cell_type": "code",
   "execution_count": 10,
   "metadata": {},
   "outputs": [],
   "source": [
    "# %%time\n",
    "\n",
    "# for i, chunk in enumerate(stories_df):\n",
    "#     pass"
   ]
  },
  {
   "cell_type": "markdown",
   "metadata": {},
   "source": [
    "## Modifying data"
   ]
  },
  {
   "cell_type": "code",
   "execution_count": 11,
   "metadata": {
    "collapsed": true
   },
   "outputs": [],
   "source": [
    "category_dict = {\n",
    "    0: 'Unknown',\n",
    "    1: 'Teen Fiction',\n",
    "    2: 'Poetry',\n",
    "    3: 'Fantasy',\n",
    "    4: 'Romance',\n",
    "    5: 'Science Fiction',\n",
    "    6: 'Fanfiction',\n",
    "    7: 'Humor',\n",
    "    8: 'Mystery / Thriller',\n",
    "    9: 'Horror',\n",
    "    10: 'Classics',\n",
    "    11: 'Adventure',\n",
    "    12: 'Paranormal',\n",
    "    13: 'Spiritual',\n",
    "    14: 'Action',\n",
    "    16: 'Non-Fiction',\n",
    "    17: 'Short Story',\n",
    "    18: 'Vampire',\n",
    "    19: 'Random',\n",
    "    21: 'General Fiction',\n",
    "    22: 'Werewolf',\n",
    "    23: 'Historical Fiction',\n",
    "    24: 'ChickLit',\n",
    "}"
   ]
  },
  {
   "cell_type": "code",
   "execution_count": 12,
   "metadata": {
    "collapsed": true
   },
   "outputs": [],
   "source": [
    "metadata_df['category'] = metadata_df.category_id.apply(lambda x: category_dict[x])"
   ]
  },
  {
   "cell_type": "code",
   "execution_count": 13,
   "metadata": {
    "collapsed": true
   },
   "outputs": [],
   "source": [
    "metadata_df['story_tags'] = metadata_df.story_tags.apply(lambda x: set(x.split()))"
   ]
  },
  {
   "cell_type": "code",
   "execution_count": 14,
   "metadata": {},
   "outputs": [
    {
     "data": {
      "text/html": [
       "<div>\n",
       "<style>\n",
       "    .dataframe thead tr:only-child th {\n",
       "        text-align: right;\n",
       "    }\n",
       "\n",
       "    .dataframe thead th {\n",
       "        text-align: left;\n",
       "    }\n",
       "\n",
       "    .dataframe tbody tr th {\n",
       "        vertical-align: top;\n",
       "    }\n",
       "</style>\n",
       "<table border=\"1\" class=\"dataframe\">\n",
       "  <thead>\n",
       "    <tr style=\"text-align: right;\">\n",
       "      <th></th>\n",
       "      <th>story_id</th>\n",
       "      <th>story_description</th>\n",
       "      <th>category_id</th>\n",
       "      <th>story_tags</th>\n",
       "      <th>category</th>\n",
       "    </tr>\n",
       "  </thead>\n",
       "  <tbody>\n",
       "    <tr>\n",
       "      <th>0</th>\n",
       "      <td>5881</td>\n",
       "      <td>Stuff that is not really important. Contains s...</td>\n",
       "      <td>10</td>\n",
       "      <td>{kitchen, alone, song, jovenes, chunky, fake-d...</td>\n",
       "      <td>Classics</td>\n",
       "    </tr>\n",
       "    <tr>\n",
       "      <th>1</th>\n",
       "      <td>14620</td>\n",
       "      <td>18 year old Grace has way more responsibilitie...</td>\n",
       "      <td>10</td>\n",
       "      <td>{police, birth, angel, supernatural, daemons, ...</td>\n",
       "      <td>Classics</td>\n",
       "    </tr>\n",
       "    <tr>\n",
       "      <th>2</th>\n",
       "      <td>15577</td>\n",
       "      <td>Can i Have This Dance? Nicki Alab  whom lives ...</td>\n",
       "      <td>10</td>\n",
       "      <td>{police, jealously, disgust, blackmail, sleep,...</td>\n",
       "      <td>Classics</td>\n",
       "    </tr>\n",
       "    <tr>\n",
       "      <th>3</th>\n",
       "      <td>24019</td>\n",
       "      <td>Giselle knew what she wanted. She wanted the b...</td>\n",
       "      <td>19</td>\n",
       "      <td>{liv, braydon, boyfriend, axel, summer, gisell...</td>\n",
       "      <td>Random</td>\n",
       "    </tr>\n",
       "    <tr>\n",
       "      <th>4</th>\n",
       "      <td>31450</td>\n",
       "      <td>From the popular anime show Yu Yu Hakusho come...</td>\n",
       "      <td>19</td>\n",
       "      <td>{yuyugang, kurama, spirit, youko, world, yuyuh...</td>\n",
       "      <td>Random</td>\n",
       "    </tr>\n",
       "  </tbody>\n",
       "</table>\n",
       "</div>"
      ],
      "text/plain": [
       "   story_id                                  story_description  category_id  \\\n",
       "0      5881  Stuff that is not really important. Contains s...           10   \n",
       "1     14620  18 year old Grace has way more responsibilitie...           10   \n",
       "2     15577  Can i Have This Dance? Nicki Alab  whom lives ...           10   \n",
       "3     24019  Giselle knew what she wanted. She wanted the b...           19   \n",
       "4     31450  From the popular anime show Yu Yu Hakusho come...           19   \n",
       "\n",
       "                                          story_tags  category  \n",
       "0  {kitchen, alone, song, jovenes, chunky, fake-d...  Classics  \n",
       "1  {police, birth, angel, supernatural, daemons, ...  Classics  \n",
       "2  {police, jealously, disgust, blackmail, sleep,...  Classics  \n",
       "3  {liv, braydon, boyfriend, axel, summer, gisell...    Random  \n",
       "4  {yuyugang, kurama, spirit, youko, world, yuyuh...    Random  "
      ]
     },
     "execution_count": 14,
     "metadata": {},
     "output_type": "execute_result"
    }
   ],
   "source": [
    "metadata_df.head()"
   ]
  },
  {
   "cell_type": "markdown",
   "metadata": {},
   "source": [
    "## Processing data"
   ]
  },
  {
   "cell_type": "code",
   "execution_count": 15,
   "metadata": {
    "collapsed": true
   },
   "outputs": [],
   "source": [
    "def clean_text(text):\n",
    "    for p in punctuation:\n",
    "        text = text.replace(p, '')\n",
    "    return text.lower()"
   ]
  },
  {
   "cell_type": "code",
   "execution_count": 16,
   "metadata": {},
   "outputs": [],
   "source": [
    "def chunk_generator(seq, size, step):\n",
    "    return (seq[pos:pos + size] for pos in range(0, len(seq), step) if len(seq) - pos > step)"
   ]
  },
  {
   "cell_type": "code",
   "execution_count": 17,
   "metadata": {
    "scrolled": true
   },
   "outputs": [
    {
     "data": {
      "text/plain": [
       "[['hands',\n",
       "  'across',\n",
       "  'hawthorne',\n",
       "  'rally',\n",
       "  'held',\n",
       "  'hawthorne',\n",
       "  'bridge',\n",
       "  'american',\n",
       "  'west',\n",
       "  'coast'],\n",
       " ['hawthorne',\n",
       "  'bridge',\n",
       "  'american',\n",
       "  'west',\n",
       "  'coast',\n",
       "  'city',\n",
       "  'portland',\n",
       "  'oregon',\n",
       "  'may',\n",
       "  '29'],\n",
       " ['city',\n",
       "  'portland',\n",
       "  'oregon',\n",
       "  'may',\n",
       "  '29',\n",
       "  '2011',\n",
       "  'demonstration',\n",
       "  'response',\n",
       "  'attack',\n",
       "  'one'],\n",
       " ['2011',\n",
       "  'demonstration',\n",
       "  'response',\n",
       "  'attack',\n",
       "  'one',\n",
       "  'week',\n",
       "  'earlier',\n",
       "  'brad',\n",
       "  'forkner',\n",
       "  'christopher'],\n",
       " ['week',\n",
       "  'earlier',\n",
       "  'brad',\n",
       "  'forkner',\n",
       "  'christopher',\n",
       "  'rosevear',\n",
       "  'gay',\n",
       "  'male',\n",
       "  'couple',\n",
       "  'holding'],\n",
       " ['rosevear',\n",
       "  'gay',\n",
       "  'male',\n",
       "  'couple',\n",
       "  'holding',\n",
       "  'hands',\n",
       "  'walking',\n",
       "  'across',\n",
       "  'bridge',\n",
       "  'according'],\n",
       " ['hands',\n",
       "  'walking',\n",
       "  'across',\n",
       "  'bridge',\n",
       "  'according',\n",
       "  'couple',\n",
       "  'portland',\n",
       "  'police',\n",
       "  'bureau',\n",
       "  'group'],\n",
       " ['couple',\n",
       "  'portland',\n",
       "  'police',\n",
       "  'bureau',\n",
       "  'group',\n",
       "  'five',\n",
       "  'men',\n",
       "  'followed',\n",
       "  'forkner',\n",
       "  'rosevear'],\n",
       " ['five',\n",
       "  'men',\n",
       "  'followed',\n",
       "  'forkner',\n",
       "  'rosevear',\n",
       "  'along',\n",
       "  'bridge',\n",
       "  'physically',\n",
       "  'assaulting',\n",
       "  'assault'],\n",
       " ['along',\n",
       "  'bridge',\n",
       "  'physically',\n",
       "  'assaulting',\n",
       "  'assault',\n",
       "  'condemned',\n",
       "  'portlands',\n",
       "  'mayor',\n",
       "  'sam',\n",
       "  'adams'],\n",
       " ['condemned',\n",
       "  'portlands',\n",
       "  'mayor',\n",
       "  'sam',\n",
       "  'adams',\n",
       "  'police',\n",
       "  'chief',\n",
       "  'mike',\n",
       "  'reese',\n",
       "  'news'],\n",
       " ['police',\n",
       "  'chief',\n",
       "  'mike',\n",
       "  'reese',\n",
       "  'news',\n",
       "  'attack',\n",
       "  'spread',\n",
       "  'throughout',\n",
       "  'pacific',\n",
       "  'northwest'],\n",
       " ['attack',\n",
       "  'spread',\n",
       "  'throughout',\n",
       "  'pacific',\n",
       "  'northwest',\n",
       "  'united',\n",
       "  'states',\n",
       "  'attack',\n",
       "  'prompted',\n",
       "  'volunteers'],\n",
       " ['united',\n",
       "  'states',\n",
       "  'attack',\n",
       "  'prompted',\n",
       "  'volunteers',\n",
       "  'q',\n",
       "  'center',\n",
       "  'nonprofit',\n",
       "  'organization',\n",
       "  'supports'],\n",
       " ['q',\n",
       "  'center',\n",
       "  'nonprofit',\n",
       "  'organization',\n",
       "  'supports',\n",
       "  'lgbt',\n",
       "  'community',\n",
       "  'form',\n",
       "  'street',\n",
       "  'patrols'],\n",
       " ['lgbt',\n",
       "  'community',\n",
       "  'form',\n",
       "  'street',\n",
       "  'patrols',\n",
       "  'means',\n",
       "  'monitoring',\n",
       "  'portlands',\n",
       "  'downtown',\n",
       "  'area'],\n",
       " ['means',\n",
       "  'monitoring',\n",
       "  'portlands',\n",
       "  'downtown',\n",
       "  'area',\n",
       "  'several',\n",
       "  'lgbt',\n",
       "  'human',\n",
       "  'rights',\n",
       "  'organizations'],\n",
       " ['several',\n",
       "  'lgbt',\n",
       "  'human',\n",
       "  'rights',\n",
       "  'organizations',\n",
       "  'sponsored',\n",
       "  'hands',\n",
       "  'across',\n",
       "  'hawthorne',\n",
       "  'response'],\n",
       " ['sponsored',\n",
       "  'hands',\n",
       "  'across',\n",
       "  'hawthorne',\n",
       "  'response',\n",
       "  'attack',\n",
       "  'purpose',\n",
       "  'linking',\n",
       "  'hands',\n",
       "  'across'],\n",
       " ['attack',\n",
       "  'purpose',\n",
       "  'linking',\n",
       "  'hands',\n",
       "  'across',\n",
       "  'entire',\n",
       "  'span',\n",
       "  'hawthorne',\n",
       "  'bridge',\n",
       "  'show'],\n",
       " ['entire',\n",
       "  'span',\n",
       "  'hawthorne',\n",
       "  'bridge',\n",
       "  'show',\n",
       "  'solidarity',\n",
       "  '4000',\n",
       "  'people',\n",
       "  'attended',\n",
       "  'rally'],\n",
       " ['solidarity',\n",
       "  '4000',\n",
       "  'people',\n",
       "  'attended',\n",
       "  'rally',\n",
       "  'publicized',\n",
       "  'single',\n",
       "  'facebook',\n",
       "  'page',\n",
       "  '72'],\n",
       " ['publicized',\n",
       "  'single',\n",
       "  'facebook',\n",
       "  'page',\n",
       "  '72',\n",
       "  'hours',\n",
       "  'previously',\n",
       "  'forkner',\n",
       "  'rosevear',\n",
       "  'mayor'],\n",
       " ['hours',\n",
       "  'previously',\n",
       "  'forkner',\n",
       "  'rosevear',\n",
       "  'mayor',\n",
       "  'adams',\n",
       "  'community',\n",
       "  'leaders',\n",
       "  'spoke',\n",
       "  'rally'],\n",
       " ['adams',\n",
       "  'community',\n",
       "  'leaders',\n",
       "  'spoke',\n",
       "  'rally',\n",
       "  'event',\n",
       "  'received',\n",
       "  'attention',\n",
       "  'throughout',\n",
       "  'united'],\n",
       " ['event',\n",
       "  'received',\n",
       "  'attention',\n",
       "  'throughout',\n",
       "  'united',\n",
       "  'states',\n",
       "  'june',\n",
       "  '5',\n",
       "  'residents',\n",
       "  'spokane'],\n",
       " ['states',\n",
       "  'june',\n",
       "  '5',\n",
       "  'residents',\n",
       "  'spokane',\n",
       "  'washington',\n",
       "  'held',\n",
       "  'similar',\n",
       "  'handholding',\n",
       "  'rally'],\n",
       " ['washington',\n",
       "  'held',\n",
       "  'similar',\n",
       "  'handholding',\n",
       "  'rally',\n",
       "  'called',\n",
       "  'hands',\n",
       "  'across',\n",
       "  'monroe',\n",
       "  'crossing'],\n",
       " ['called',\n",
       "  'hands',\n",
       "  'across',\n",
       "  'monroe',\n",
       "  'crossing',\n",
       "  'monroe',\n",
       "  'street',\n",
       "  'bridge',\n",
       "  'riverfront',\n",
       "  'park']]"
      ]
     },
     "execution_count": 17,
     "metadata": {},
     "output_type": "execute_result"
    }
   ],
   "source": [
    "example = \"\"\"\n",
    "Hands Across Hawthorne was a rally held at the Hawthorne Bridge in the American West Coast city of Portland, Oregon, on May 29, 2011. The demonstration was in response to an attack, one week earlier, on Brad Forkner and Christopher Rosevear, a gay male couple who had been holding hands while walking across the bridge. According to the couple and the Portland Police Bureau, a group of five men followed Forkner and Rosevear along the bridge before physically assaulting them. The assault was condemned by Portland's mayor, Sam Adams, and its police chief, Mike Reese, and news of the attack spread throughout the Pacific Northwest and the United States. The attack prompted volunteers from the Q Center, a nonprofit organization that supports the LGBT community, to form street patrols as a means of monitoring Portland's downtown area.\n",
    "Several LGBT and human rights organizations sponsored Hands Across Hawthorne in response to the attack, with the purpose of linking hands across the entire span of the Hawthorne Bridge to show solidarity. More than 4,000 people attended the rally, which had been publicized on a single Facebook page 72 hours previously. Forkner, Rosevear, Mayor Adams, and other community leaders spoke at the rally. The event received attention throughout the United States. On June 5, residents of Spokane, Washington, held a similar hand-holding rally called \"Hands Across Monroe\", crossing the Monroe Street Bridge in Riverfront Park.\n",
    "\"\"\"\n",
    "\n",
    "def extract_information(text, window_size=50, step=25):\n",
    "    words = word_tokenize(clean_text(text))\n",
    "    words = [w for w in words if w not in stopwords.words('english')]\n",
    "    chunks = chunk_generator(words, window_size, step)\n",
    "    return list(chunks)\n",
    "   \n",
    "extract_information(example, 10, 5)"
   ]
  },
  {
   "cell_type": "code",
   "execution_count": 18,
   "metadata": {},
   "outputs": [],
   "source": [
    "# c=0\n",
    "# for chunk in stories_df:\n",
    "#     if c > 0:\n",
    "#         break\n",
    "# #     display(chunk)\n",
    "# #     print(chunk.ix[1700].chapter_text)\n",
    "#     c+=1"
   ]
  },
  {
   "cell_type": "code",
   "execution_count": 42,
   "metadata": {},
   "outputs": [
    {
     "ename": "ParserError",
     "evalue": "Error tokenizing data. C error: out of memory",
     "output_type": "error",
     "traceback": [
      "\u001b[0;31m---------------------------------------------------------------------------\u001b[0m",
      "\u001b[0;31mParserError\u001b[0m                               Traceback (most recent call last)",
      "\u001b[0;32m<timed exec>\u001b[0m in \u001b[0;36m<module>\u001b[0;34m()\u001b[0m\n",
      "\u001b[0;32m/home/antonio/.virtualenvs/wattpad/lib/python3.4/site-packages/pandas/io/parsers.py\u001b[0m in \u001b[0;36m__next__\u001b[0;34m(self)\u001b[0m\n\u001b[1;32m    957\u001b[0m     \u001b[0;32mdef\u001b[0m \u001b[0m__next__\u001b[0m\u001b[0;34m(\u001b[0m\u001b[0mself\u001b[0m\u001b[0;34m)\u001b[0m\u001b[0;34m:\u001b[0m\u001b[0;34m\u001b[0m\u001b[0m\n\u001b[1;32m    958\u001b[0m         \u001b[0;32mtry\u001b[0m\u001b[0;34m:\u001b[0m\u001b[0;34m\u001b[0m\u001b[0m\n\u001b[0;32m--> 959\u001b[0;31m             \u001b[0;32mreturn\u001b[0m \u001b[0mself\u001b[0m\u001b[0;34m.\u001b[0m\u001b[0mget_chunk\u001b[0m\u001b[0;34m(\u001b[0m\u001b[0;34m)\u001b[0m\u001b[0;34m\u001b[0m\u001b[0m\n\u001b[0m\u001b[1;32m    960\u001b[0m         \u001b[0;32mexcept\u001b[0m \u001b[0mStopIteration\u001b[0m\u001b[0;34m:\u001b[0m\u001b[0;34m\u001b[0m\u001b[0m\n\u001b[1;32m    961\u001b[0m             \u001b[0mself\u001b[0m\u001b[0;34m.\u001b[0m\u001b[0mclose\u001b[0m\u001b[0;34m(\u001b[0m\u001b[0;34m)\u001b[0m\u001b[0;34m\u001b[0m\u001b[0m\n",
      "\u001b[0;32m/home/antonio/.virtualenvs/wattpad/lib/python3.4/site-packages/pandas/io/parsers.py\u001b[0m in \u001b[0;36mget_chunk\u001b[0;34m(self, size)\u001b[0m\n\u001b[1;32m   1017\u001b[0m                 \u001b[0;32mraise\u001b[0m \u001b[0mStopIteration\u001b[0m\u001b[0;34m\u001b[0m\u001b[0m\n\u001b[1;32m   1018\u001b[0m             \u001b[0msize\u001b[0m \u001b[0;34m=\u001b[0m \u001b[0mmin\u001b[0m\u001b[0;34m(\u001b[0m\u001b[0msize\u001b[0m\u001b[0;34m,\u001b[0m \u001b[0mself\u001b[0m\u001b[0;34m.\u001b[0m\u001b[0mnrows\u001b[0m \u001b[0;34m-\u001b[0m \u001b[0mself\u001b[0m\u001b[0;34m.\u001b[0m\u001b[0m_currow\u001b[0m\u001b[0;34m)\u001b[0m\u001b[0;34m\u001b[0m\u001b[0m\n\u001b[0;32m-> 1019\u001b[0;31m         \u001b[0;32mreturn\u001b[0m \u001b[0mself\u001b[0m\u001b[0;34m.\u001b[0m\u001b[0mread\u001b[0m\u001b[0;34m(\u001b[0m\u001b[0mnrows\u001b[0m\u001b[0;34m=\u001b[0m\u001b[0msize\u001b[0m\u001b[0;34m)\u001b[0m\u001b[0;34m\u001b[0m\u001b[0m\n\u001b[0m\u001b[1;32m   1020\u001b[0m \u001b[0;34m\u001b[0m\u001b[0m\n\u001b[1;32m   1021\u001b[0m \u001b[0;34m\u001b[0m\u001b[0m\n",
      "\u001b[0;32m/home/antonio/.virtualenvs/wattpad/lib/python3.4/site-packages/pandas/io/parsers.py\u001b[0m in \u001b[0;36mread\u001b[0;34m(self, nrows)\u001b[0m\n\u001b[1;32m    980\u001b[0m                 \u001b[0;32mraise\u001b[0m \u001b[0mValueError\u001b[0m\u001b[0;34m(\u001b[0m\u001b[0;34m'skipfooter not supported for iteration'\u001b[0m\u001b[0;34m)\u001b[0m\u001b[0;34m\u001b[0m\u001b[0m\n\u001b[1;32m    981\u001b[0m \u001b[0;34m\u001b[0m\u001b[0m\n\u001b[0;32m--> 982\u001b[0;31m         \u001b[0mret\u001b[0m \u001b[0;34m=\u001b[0m \u001b[0mself\u001b[0m\u001b[0;34m.\u001b[0m\u001b[0m_engine\u001b[0m\u001b[0;34m.\u001b[0m\u001b[0mread\u001b[0m\u001b[0;34m(\u001b[0m\u001b[0mnrows\u001b[0m\u001b[0;34m)\u001b[0m\u001b[0;34m\u001b[0m\u001b[0m\n\u001b[0m\u001b[1;32m    983\u001b[0m \u001b[0;34m\u001b[0m\u001b[0m\n\u001b[1;32m    984\u001b[0m         \u001b[0;32mif\u001b[0m \u001b[0mself\u001b[0m\u001b[0;34m.\u001b[0m\u001b[0moptions\u001b[0m\u001b[0;34m.\u001b[0m\u001b[0mget\u001b[0m\u001b[0;34m(\u001b[0m\u001b[0;34m'as_recarray'\u001b[0m\u001b[0;34m)\u001b[0m\u001b[0;34m:\u001b[0m\u001b[0;34m\u001b[0m\u001b[0m\n",
      "\u001b[0;32m/home/antonio/.virtualenvs/wattpad/lib/python3.4/site-packages/pandas/io/parsers.py\u001b[0m in \u001b[0;36mread\u001b[0;34m(self, nrows)\u001b[0m\n\u001b[1;32m   1717\u001b[0m     \u001b[0;32mdef\u001b[0m \u001b[0mread\u001b[0m\u001b[0;34m(\u001b[0m\u001b[0mself\u001b[0m\u001b[0;34m,\u001b[0m \u001b[0mnrows\u001b[0m\u001b[0;34m=\u001b[0m\u001b[0;32mNone\u001b[0m\u001b[0;34m)\u001b[0m\u001b[0;34m:\u001b[0m\u001b[0;34m\u001b[0m\u001b[0m\n\u001b[1;32m   1718\u001b[0m         \u001b[0;32mtry\u001b[0m\u001b[0;34m:\u001b[0m\u001b[0;34m\u001b[0m\u001b[0m\n\u001b[0;32m-> 1719\u001b[0;31m             \u001b[0mdata\u001b[0m \u001b[0;34m=\u001b[0m \u001b[0mself\u001b[0m\u001b[0;34m.\u001b[0m\u001b[0m_reader\u001b[0m\u001b[0;34m.\u001b[0m\u001b[0mread\u001b[0m\u001b[0;34m(\u001b[0m\u001b[0mnrows\u001b[0m\u001b[0;34m)\u001b[0m\u001b[0;34m\u001b[0m\u001b[0m\n\u001b[0m\u001b[1;32m   1720\u001b[0m         \u001b[0;32mexcept\u001b[0m \u001b[0mStopIteration\u001b[0m\u001b[0;34m:\u001b[0m\u001b[0;34m\u001b[0m\u001b[0m\n\u001b[1;32m   1721\u001b[0m             \u001b[0;32mif\u001b[0m \u001b[0mself\u001b[0m\u001b[0;34m.\u001b[0m\u001b[0m_first_chunk\u001b[0m\u001b[0;34m:\u001b[0m\u001b[0;34m\u001b[0m\u001b[0m\n",
      "\u001b[0;32mpandas/_libs/parsers.pyx\u001b[0m in \u001b[0;36mpandas._libs.parsers.TextReader.read (pandas/_libs/parsers.c:10862)\u001b[0;34m()\u001b[0m\n",
      "\u001b[0;32mpandas/_libs/parsers.pyx\u001b[0m in \u001b[0;36mpandas._libs.parsers.TextReader._read_low_memory (pandas/_libs/parsers.c:11343)\u001b[0;34m()\u001b[0m\n",
      "\u001b[0;32mpandas/_libs/parsers.pyx\u001b[0m in \u001b[0;36mpandas._libs.parsers.TextReader._read_rows (pandas/_libs/parsers.c:11884)\u001b[0;34m()\u001b[0m\n",
      "\u001b[0;32mpandas/_libs/parsers.pyx\u001b[0m in \u001b[0;36mpandas._libs.parsers.TextReader._tokenize_rows (pandas/_libs/parsers.c:11755)\u001b[0;34m()\u001b[0m\n",
      "\u001b[0;32mpandas/_libs/parsers.pyx\u001b[0m in \u001b[0;36mpandas._libs.parsers.raise_parser_error (pandas/_libs/parsers.c:28765)\u001b[0;34m()\u001b[0m\n",
      "\u001b[0;31mParserError\u001b[0m: Error tokenizing data. C error: out of memory"
     ]
    }
   ],
   "source": [
    "%%time\n",
    "\n",
    "c=0\n",
    "ids = set()\n",
    "for chunk in stories_df:\n",
    "    if c % 100000 == 0:\n",
    "        print(c, len(ids))\n",
    "    ids = ids.union(chunk.story_id.unique())\n",
    "    c+=len(chunk)"
   ]
  },
  {
   "cell_type": "code",
   "execution_count": 34,
   "metadata": {},
   "outputs": [
    {
     "data": {
      "text/plain": [
       "1000"
      ]
     },
     "execution_count": 34,
     "metadata": {},
     "output_type": "execute_result"
    }
   ],
   "source": [
    "len(chunk)"
   ]
  },
  {
   "cell_type": "code",
   "execution_count": 27,
   "metadata": {},
   "outputs": [
    {
     "data": {
      "text/plain": [
       "11"
      ]
     },
     "execution_count": 27,
     "metadata": {},
     "output_type": "execute_result"
    }
   ],
   "source": [
    "c"
   ]
  },
  {
   "cell_type": "code",
   "execution_count": 40,
   "metadata": {},
   "outputs": [
    {
     "data": {
      "text/plain": [
       "984493"
      ]
     },
     "execution_count": 40,
     "metadata": {},
     "output_type": "execute_result"
    }
   ],
   "source": [
    "len(ids)"
   ]
  },
  {
   "cell_type": "code",
   "execution_count": 19,
   "metadata": {
    "collapsed": true
   },
   "outputs": [],
   "source": [
    "# c=0\n",
    "# for chunk in stories_df:\n",
    "#     for i, x in chunk.iterrows():\n",
    "#         c+=1"
   ]
  },
  {
   "cell_type": "code",
   "execution_count": 21,
   "metadata": {},
   "outputs": [
    {
     "data": {
      "text/plain": [
       "3947664"
      ]
     },
     "execution_count": 21,
     "metadata": {},
     "output_type": "execute_result"
    }
   ],
   "source": [
    "# c\n",
    "# 3947664"
   ]
  },
  {
   "cell_type": "code",
   "execution_count": 20,
   "metadata": {
    "scrolled": true
   },
   "outputs": [],
   "source": [
    "# c=0\n",
    "# for chunk in stories_df:\n",
    "#     if c > 0:\n",
    "#         break\n",
    "#     display(chunk)\n",
    "#     c+=1"
   ]
  },
  {
   "cell_type": "code",
   "execution_count": null,
   "metadata": {
    "collapsed": true
   },
   "outputs": [],
   "source": [
    "Comprobar que pasa si el texto es menor que el window_size"
   ]
  }
 ],
 "metadata": {
  "kernelspec": {
   "display_name": "Python 3",
   "language": "python",
   "name": "python3"
  },
  "language_info": {
   "codemirror_mode": {
    "name": "ipython",
    "version": 3
   },
   "file_extension": ".py",
   "mimetype": "text/x-python",
   "name": "python",
   "nbconvert_exporter": "python",
   "pygments_lexer": "ipython3",
   "version": "3.4.3"
  }
 },
 "nbformat": 4,
 "nbformat_minor": 2
}
