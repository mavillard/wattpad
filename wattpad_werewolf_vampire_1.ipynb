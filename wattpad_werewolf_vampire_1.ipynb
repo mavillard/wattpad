{
 "cells": [
  {
   "cell_type": "markdown",
   "metadata": {},
   "source": [
    "# Werewolf and vampire"
   ]
  },
  {
   "cell_type": "code",
   "execution_count": 1,
   "metadata": {
    "collapsed": true
   },
   "outputs": [],
   "source": [
    "import pandas as pd"
   ]
  },
  {
   "cell_type": "markdown",
   "metadata": {},
   "source": [
    "## Loading data"
   ]
  },
  {
   "cell_type": "markdown",
   "metadata": {},
   "source": [
    "### Metadata"
   ]
  },
  {
   "cell_type": "code",
   "execution_count": 2,
   "metadata": {
    "collapsed": true
   },
   "outputs": [],
   "source": [
    "metadata_df = pd.read_csv('data/out/metadata.csv', converters={'story_tags': eval})"
   ]
  },
  {
   "cell_type": "code",
   "execution_count": 3,
   "metadata": {},
   "outputs": [
    {
     "data": {
      "text/html": [
       "<div>\n",
       "<style>\n",
       "    .dataframe thead tr:only-child th {\n",
       "        text-align: right;\n",
       "    }\n",
       "\n",
       "    .dataframe thead th {\n",
       "        text-align: left;\n",
       "    }\n",
       "\n",
       "    .dataframe tbody tr th {\n",
       "        vertical-align: top;\n",
       "    }\n",
       "</style>\n",
       "<table border=\"1\" class=\"dataframe\">\n",
       "  <thead>\n",
       "    <tr style=\"text-align: right;\">\n",
       "      <th></th>\n",
       "      <th>story_id</th>\n",
       "      <th>story_description</th>\n",
       "      <th>category_id</th>\n",
       "      <th>story_tags</th>\n",
       "      <th>category</th>\n",
       "    </tr>\n",
       "  </thead>\n",
       "  <tbody>\n",
       "    <tr>\n",
       "      <th>0</th>\n",
       "      <td>5881</td>\n",
       "      <td>Stuff that is not really important. Contains s...</td>\n",
       "      <td>10</td>\n",
       "      <td>{damon, melody, alone, chris, rabbit, lucky, c...</td>\n",
       "      <td>Classics</td>\n",
       "    </tr>\n",
       "    <tr>\n",
       "      <th>1</th>\n",
       "      <td>14620</td>\n",
       "      <td>18 year old Grace has way more responsibilitie...</td>\n",
       "      <td>10</td>\n",
       "      <td>{action, forest, henry, angel, phillip, hastin...</td>\n",
       "      <td>Classics</td>\n",
       "    </tr>\n",
       "    <tr>\n",
       "      <th>2</th>\n",
       "      <td>15577</td>\n",
       "      <td>Can i Have This Dance? Nicki Alab  whom lives ...</td>\n",
       "      <td>10</td>\n",
       "      <td>{principle, eat, disgust, trashed, cassie, fun...</td>\n",
       "      <td>Classics</td>\n",
       "    </tr>\n",
       "    <tr>\n",
       "      <th>3</th>\n",
       "      <td>24019</td>\n",
       "      <td>Giselle knew what she wanted. She wanted the b...</td>\n",
       "      <td>19</td>\n",
       "      <td>{brother, bestfriend, axel, summer, giselle, b...</td>\n",
       "      <td>Random</td>\n",
       "    </tr>\n",
       "    <tr>\n",
       "      <th>4</th>\n",
       "      <td>31450</td>\n",
       "      <td>From the popular anime show Yu Yu Hakusho come...</td>\n",
       "      <td>19</td>\n",
       "      <td>{world, spirit, yuyugang, myruki, youko, yuyuh...</td>\n",
       "      <td>Random</td>\n",
       "    </tr>\n",
       "  </tbody>\n",
       "</table>\n",
       "</div>"
      ],
      "text/plain": [
       "   story_id                                  story_description  category_id  \\\n",
       "0      5881  Stuff that is not really important. Contains s...           10   \n",
       "1     14620  18 year old Grace has way more responsibilitie...           10   \n",
       "2     15577  Can i Have This Dance? Nicki Alab  whom lives ...           10   \n",
       "3     24019  Giselle knew what she wanted. She wanted the b...           19   \n",
       "4     31450  From the popular anime show Yu Yu Hakusho come...           19   \n",
       "\n",
       "                                          story_tags  category  \n",
       "0  {damon, melody, alone, chris, rabbit, lucky, c...  Classics  \n",
       "1  {action, forest, henry, angel, phillip, hastin...  Classics  \n",
       "2  {principle, eat, disgust, trashed, cassie, fun...  Classics  \n",
       "3  {brother, bestfriend, axel, summer, giselle, b...    Random  \n",
       "4  {world, spirit, yuyugang, myruki, youko, yuyuh...    Random  "
      ]
     },
     "execution_count": 3,
     "metadata": {},
     "output_type": "execute_result"
    }
   ],
   "source": [
    "metadata_df.head()"
   ]
  },
  {
   "cell_type": "code",
   "execution_count": 4,
   "metadata": {},
   "outputs": [
    {
     "data": {
      "text/plain": [
       "(245851, 5)"
      ]
     },
     "execution_count": 4,
     "metadata": {},
     "output_type": "execute_result"
    }
   ],
   "source": [
    "metadata_df.shape"
   ]
  },
  {
   "cell_type": "markdown",
   "metadata": {},
   "source": [
    "### Sample"
   ]
  },
  {
   "cell_type": "code",
   "execution_count": 5,
   "metadata": {
    "collapsed": true
   },
   "outputs": [],
   "source": [
    "sample_df = pd.read_csv('data/out/sample.csv')"
   ]
  },
  {
   "cell_type": "code",
   "execution_count": 6,
   "metadata": {},
   "outputs": [
    {
     "data": {
      "text/html": [
       "<div>\n",
       "<style>\n",
       "    .dataframe thead tr:only-child th {\n",
       "        text-align: right;\n",
       "    }\n",
       "\n",
       "    .dataframe thead th {\n",
       "        text-align: left;\n",
       "    }\n",
       "\n",
       "    .dataframe tbody tr th {\n",
       "        vertical-align: top;\n",
       "    }\n",
       "</style>\n",
       "<table border=\"1\" class=\"dataframe\">\n",
       "  <thead>\n",
       "    <tr style=\"text-align: right;\">\n",
       "      <th></th>\n",
       "      <th>story_id</th>\n",
       "      <th>chapter_id</th>\n",
       "      <th>chapter_index</th>\n",
       "      <th>chapter_text</th>\n",
       "    </tr>\n",
       "  </thead>\n",
       "  <tbody>\n",
       "    <tr>\n",
       "      <th>0</th>\n",
       "      <td>35</td>\n",
       "      <td>183814</td>\n",
       "      <td>0</td>\n",
       "      <td>We caught up on a lot of things that happened ...</td>\n",
       "    </tr>\n",
       "    <tr>\n",
       "      <th>1</th>\n",
       "      <td>35</td>\n",
       "      <td>184177</td>\n",
       "      <td>1</td>\n",
       "      <td>They split up to enclose around me.  Crap.  Wh...</td>\n",
       "    </tr>\n",
       "    <tr>\n",
       "      <th>2</th>\n",
       "      <td>35</td>\n",
       "      <td>184771</td>\n",
       "      <td>2</td>\n",
       "      <td>Where's Bing?  Why aren't any of your roommate...</td>\n",
       "    </tr>\n",
       "    <tr>\n",
       "      <th>3</th>\n",
       "      <td>35</td>\n",
       "      <td>185259</td>\n",
       "      <td>3</td>\n",
       "      <td>Question Vote (it really helps I know) Copyrig...</td>\n",
       "    </tr>\n",
       "    <tr>\n",
       "      <th>4</th>\n",
       "      <td>35</td>\n",
       "      <td>186546</td>\n",
       "      <td>4</td>\n",
       "      <td>I want to marry Miss, I need your blessing.  Y...</td>\n",
       "    </tr>\n",
       "  </tbody>\n",
       "</table>\n",
       "</div>"
      ],
      "text/plain": [
       "   story_id  chapter_id  chapter_index  \\\n",
       "0        35      183814              0   \n",
       "1        35      184177              1   \n",
       "2        35      184771              2   \n",
       "3        35      185259              3   \n",
       "4        35      186546              4   \n",
       "\n",
       "                                        chapter_text  \n",
       "0  We caught up on a lot of things that happened ...  \n",
       "1  They split up to enclose around me.  Crap.  Wh...  \n",
       "2  Where's Bing?  Why aren't any of your roommate...  \n",
       "3  Question Vote (it really helps I know) Copyrig...  \n",
       "4  I want to marry Miss, I need your blessing.  Y...  "
      ]
     },
     "execution_count": 6,
     "metadata": {},
     "output_type": "execute_result"
    }
   ],
   "source": [
    "sample_df.head()"
   ]
  },
  {
   "cell_type": "code",
   "execution_count": 7,
   "metadata": {},
   "outputs": [
    {
     "data": {
      "text/plain": [
       "(1000, 4)"
      ]
     },
     "execution_count": 7,
     "metadata": {},
     "output_type": "execute_result"
    }
   ],
   "source": [
    "sample_df.shape"
   ]
  },
  {
   "cell_type": "markdown",
   "metadata": {},
   "source": [
    "### Stories"
   ]
  },
  {
   "cell_type": "code",
   "execution_count": 8,
   "metadata": {
    "collapsed": true
   },
   "outputs": [],
   "source": [
    "CHUNK_SIZE = 1000"
   ]
  },
  {
   "cell_type": "code",
   "execution_count": 9,
   "metadata": {},
   "outputs": [
    {
     "name": "stdout",
     "output_type": "stream",
     "text": [
      "CPU times: user 1.65 ms, sys: 0 ns, total: 1.65 ms\n",
      "Wall time: 1.18 ms\n"
     ]
    }
   ],
   "source": [
    "%%time\n",
    "\n",
    "stories_df = pd.read_csv(\n",
    "    'data/src/stories.tsv',\n",
    "    sep='\\t',\n",
    "    names=['story_id', 'chapter_id', 'chapter_index', 'chapter_text'],\n",
    "    chunksize=CHUNK_SIZE,\n",
    ")"
   ]
  },
  {
   "cell_type": "code",
   "execution_count": 10,
   "metadata": {},
   "outputs": [
    {
     "data": {
      "text/plain": [
       "pandas.io.parsers.TextFileReader"
      ]
     },
     "execution_count": 10,
     "metadata": {},
     "output_type": "execute_result"
    }
   ],
   "source": [
    "type(stories_df)"
   ]
  },
  {
   "cell_type": "markdown",
   "metadata": {},
   "source": [
    "## Selecting data"
   ]
  },
  {
   "cell_type": "code",
   "execution_count": 11,
   "metadata": {
    "collapsed": true
   },
   "outputs": [],
   "source": [
    "werewolf_vampire_metadata_df = metadata_df[(metadata_df.category_id == 18) | (metadata_df.category_id == 22)]\n",
    "werewolf_vampire_story_ids = werewolf_vampire_metadata_df.story_id.unique()"
   ]
  },
  {
   "cell_type": "code",
   "execution_count": 12,
   "metadata": {},
   "outputs": [
    {
     "data": {
      "text/plain": [
       "5869"
      ]
     },
     "execution_count": 12,
     "metadata": {},
     "output_type": "execute_result"
    }
   ],
   "source": [
    "len(werewolf_vampire_story_ids)"
   ]
  },
  {
   "cell_type": "code",
   "execution_count": 13,
   "metadata": {},
   "outputs": [
    {
     "name": "stdout",
     "output_type": "stream",
     "text": [
      "CPU times: user 9min 39s, sys: 40.7 s, total: 10min 20s\n",
      "Wall time: 11min 48s\n"
     ]
    }
   ],
   "source": [
    "%%time\n",
    "\n",
    "werewolf_vampire_list = []\n",
    "\n",
    "for chunk in stories_df:\n",
    "    selected = chunk[chunk.story_id.isin(werewolf_vampire_story_ids)]\n",
    "    werewolf_vampire_list.append(selected)\n",
    "\n",
    "werewolf_vampire_stories_df = pd.concat(werewolf_vampire_list, ignore_index=True)"
   ]
  },
  {
   "cell_type": "markdown",
   "metadata": {},
   "source": [
    "## Saving data"
   ]
  },
  {
   "cell_type": "code",
   "execution_count": 14,
   "metadata": {
    "collapsed": true
   },
   "outputs": [],
   "source": [
    "werewolf_vampire_stories_df.to_csv('data/out/werewolf_vampire_stories.csv', index=False)"
   ]
  },
  {
   "cell_type": "code",
   "execution_count": null,
   "metadata": {
    "collapsed": true
   },
   "outputs": [],
   "source": []
  }
 ],
 "metadata": {
  "kernelspec": {
   "display_name": "Python 3",
   "language": "python",
   "name": "python3"
  },
  "language_info": {
   "codemirror_mode": {
    "name": "ipython",
    "version": 3
   },
   "file_extension": ".py",
   "mimetype": "text/x-python",
   "name": "python",
   "nbconvert_exporter": "python",
   "pygments_lexer": "ipython3",
   "version": "3.4.3"
  }
 },
 "nbformat": 4,
 "nbformat_minor": 2
}
